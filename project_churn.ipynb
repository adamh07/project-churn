{
 "cells": [
  {
   "cell_type": "markdown",
   "id": "5c72d927",
   "metadata": {},
   "source": [
    "# Predict Customer Churn"
   ]
  },
  {
   "cell_type": "markdown",
   "id": "9810f83f",
   "metadata": {},
   "source": [
    "The goal of the project is to dig deep into the variables and reach the most information from them to build a relatively accurate and robust classification model."
   ]
  },
  {
   "cell_type": "markdown",
   "id": "15ac43eb",
   "metadata": {},
   "source": [
    "Source: [kaggle.com/datasets/blastchar/telco-customer-churn](https://www.kaggle.com/datasets/blastchar/telco-customer-churn)"
   ]
  },
  {
   "cell_type": "markdown",
   "id": "38073797",
   "metadata": {},
   "source": [
    "### Import libraries"
   ]
  },
  {
   "cell_type": "code",
   "execution_count": 1,
   "id": "e76cd87d",
   "metadata": {},
   "outputs": [
    {
     "data": {
      "text/html": [
       "<style>.container { width:97% !important; }</style>"
      ],
      "text/plain": [
       "<IPython.core.display.HTML object>"
      ]
     },
     "metadata": {},
     "output_type": "display_data"
    }
   ],
   "source": [
    "import pandas as pd\n",
    "import numpy as np\n",
    "import matplotlib.pyplot as plt\n",
    "import seaborn as sns\n",
    "\n",
    "from sklearn.metrics import roc_auc_score\n",
    "\n",
    "import warnings\n",
    "warnings.filterwarnings(\"ignore\")\n",
    "\n",
    "from IPython.core.display import display, HTML\n",
    "display(HTML(\"<style>.container { width:97% !important; }</style>\"))\n",
    "pd.options.display.float_format = '{:,.4f}'.format"
   ]
  },
  {
   "cell_type": "markdown",
   "id": "59f9dd02",
   "metadata": {},
   "source": [
    "### Load dataset"
   ]
  },
  {
   "cell_type": "code",
   "execution_count": 2,
   "id": "d58dac9e",
   "metadata": {},
   "outputs": [],
   "source": [
    "data = pd.read_csv('data/telco_churn.csv', sep=',')"
   ]
  },
  {
   "cell_type": "code",
   "execution_count": 3,
   "id": "7f7659a1",
   "metadata": {},
   "outputs": [
    {
     "data": {
      "text/html": [
       "<div>\n",
       "<style scoped>\n",
       "    .dataframe tbody tr th:only-of-type {\n",
       "        vertical-align: middle;\n",
       "    }\n",
       "\n",
       "    .dataframe tbody tr th {\n",
       "        vertical-align: top;\n",
       "    }\n",
       "\n",
       "    .dataframe thead th {\n",
       "        text-align: right;\n",
       "    }\n",
       "</style>\n",
       "<table border=\"1\" class=\"dataframe\">\n",
       "  <thead>\n",
       "    <tr style=\"text-align: right;\">\n",
       "      <th></th>\n",
       "      <th>customerID</th>\n",
       "      <th>gender</th>\n",
       "      <th>SeniorCitizen</th>\n",
       "      <th>Partner</th>\n",
       "      <th>Dependents</th>\n",
       "      <th>tenure</th>\n",
       "      <th>PhoneService</th>\n",
       "      <th>MultipleLines</th>\n",
       "      <th>InternetService</th>\n",
       "      <th>OnlineSecurity</th>\n",
       "      <th>...</th>\n",
       "      <th>DeviceProtection</th>\n",
       "      <th>TechSupport</th>\n",
       "      <th>StreamingTV</th>\n",
       "      <th>StreamingMovies</th>\n",
       "      <th>Contract</th>\n",
       "      <th>PaperlessBilling</th>\n",
       "      <th>PaymentMethod</th>\n",
       "      <th>MonthlyCharges</th>\n",
       "      <th>TotalCharges</th>\n",
       "      <th>Churn</th>\n",
       "    </tr>\n",
       "  </thead>\n",
       "  <tbody>\n",
       "    <tr>\n",
       "      <th>0</th>\n",
       "      <td>7590-VHVEG</td>\n",
       "      <td>Female</td>\n",
       "      <td>0</td>\n",
       "      <td>Yes</td>\n",
       "      <td>No</td>\n",
       "      <td>1</td>\n",
       "      <td>No</td>\n",
       "      <td>No phone service</td>\n",
       "      <td>DSL</td>\n",
       "      <td>No</td>\n",
       "      <td>...</td>\n",
       "      <td>No</td>\n",
       "      <td>No</td>\n",
       "      <td>No</td>\n",
       "      <td>No</td>\n",
       "      <td>Month-to-month</td>\n",
       "      <td>Yes</td>\n",
       "      <td>Electronic check</td>\n",
       "      <td>29.8500</td>\n",
       "      <td>29.85</td>\n",
       "      <td>No</td>\n",
       "    </tr>\n",
       "    <tr>\n",
       "      <th>1</th>\n",
       "      <td>5575-GNVDE</td>\n",
       "      <td>Male</td>\n",
       "      <td>0</td>\n",
       "      <td>No</td>\n",
       "      <td>No</td>\n",
       "      <td>34</td>\n",
       "      <td>Yes</td>\n",
       "      <td>No</td>\n",
       "      <td>DSL</td>\n",
       "      <td>Yes</td>\n",
       "      <td>...</td>\n",
       "      <td>Yes</td>\n",
       "      <td>No</td>\n",
       "      <td>No</td>\n",
       "      <td>No</td>\n",
       "      <td>One year</td>\n",
       "      <td>No</td>\n",
       "      <td>Mailed check</td>\n",
       "      <td>56.9500</td>\n",
       "      <td>1889.5</td>\n",
       "      <td>No</td>\n",
       "    </tr>\n",
       "    <tr>\n",
       "      <th>2</th>\n",
       "      <td>3668-QPYBK</td>\n",
       "      <td>Male</td>\n",
       "      <td>0</td>\n",
       "      <td>No</td>\n",
       "      <td>No</td>\n",
       "      <td>2</td>\n",
       "      <td>Yes</td>\n",
       "      <td>No</td>\n",
       "      <td>DSL</td>\n",
       "      <td>Yes</td>\n",
       "      <td>...</td>\n",
       "      <td>No</td>\n",
       "      <td>No</td>\n",
       "      <td>No</td>\n",
       "      <td>No</td>\n",
       "      <td>Month-to-month</td>\n",
       "      <td>Yes</td>\n",
       "      <td>Mailed check</td>\n",
       "      <td>53.8500</td>\n",
       "      <td>108.15</td>\n",
       "      <td>Yes</td>\n",
       "    </tr>\n",
       "    <tr>\n",
       "      <th>3</th>\n",
       "      <td>7795-CFOCW</td>\n",
       "      <td>Male</td>\n",
       "      <td>0</td>\n",
       "      <td>No</td>\n",
       "      <td>No</td>\n",
       "      <td>45</td>\n",
       "      <td>No</td>\n",
       "      <td>No phone service</td>\n",
       "      <td>DSL</td>\n",
       "      <td>Yes</td>\n",
       "      <td>...</td>\n",
       "      <td>Yes</td>\n",
       "      <td>Yes</td>\n",
       "      <td>No</td>\n",
       "      <td>No</td>\n",
       "      <td>One year</td>\n",
       "      <td>No</td>\n",
       "      <td>Bank transfer (automatic)</td>\n",
       "      <td>42.3000</td>\n",
       "      <td>1840.75</td>\n",
       "      <td>No</td>\n",
       "    </tr>\n",
       "    <tr>\n",
       "      <th>4</th>\n",
       "      <td>9237-HQITU</td>\n",
       "      <td>Female</td>\n",
       "      <td>0</td>\n",
       "      <td>No</td>\n",
       "      <td>No</td>\n",
       "      <td>2</td>\n",
       "      <td>Yes</td>\n",
       "      <td>No</td>\n",
       "      <td>Fiber optic</td>\n",
       "      <td>No</td>\n",
       "      <td>...</td>\n",
       "      <td>No</td>\n",
       "      <td>No</td>\n",
       "      <td>No</td>\n",
       "      <td>No</td>\n",
       "      <td>Month-to-month</td>\n",
       "      <td>Yes</td>\n",
       "      <td>Electronic check</td>\n",
       "      <td>70.7000</td>\n",
       "      <td>151.65</td>\n",
       "      <td>Yes</td>\n",
       "    </tr>\n",
       "  </tbody>\n",
       "</table>\n",
       "<p>5 rows × 21 columns</p>\n",
       "</div>"
      ],
      "text/plain": [
       "   customerID  gender  SeniorCitizen Partner Dependents  tenure PhoneService  \\\n",
       "0  7590-VHVEG  Female              0     Yes         No       1           No   \n",
       "1  5575-GNVDE    Male              0      No         No      34          Yes   \n",
       "2  3668-QPYBK    Male              0      No         No       2          Yes   \n",
       "3  7795-CFOCW    Male              0      No         No      45           No   \n",
       "4  9237-HQITU  Female              0      No         No       2          Yes   \n",
       "\n",
       "      MultipleLines InternetService OnlineSecurity  ... DeviceProtection  \\\n",
       "0  No phone service             DSL             No  ...               No   \n",
       "1                No             DSL            Yes  ...              Yes   \n",
       "2                No             DSL            Yes  ...               No   \n",
       "3  No phone service             DSL            Yes  ...              Yes   \n",
       "4                No     Fiber optic             No  ...               No   \n",
       "\n",
       "  TechSupport StreamingTV StreamingMovies        Contract PaperlessBilling  \\\n",
       "0          No          No              No  Month-to-month              Yes   \n",
       "1          No          No              No        One year               No   \n",
       "2          No          No              No  Month-to-month              Yes   \n",
       "3         Yes          No              No        One year               No   \n",
       "4          No          No              No  Month-to-month              Yes   \n",
       "\n",
       "               PaymentMethod MonthlyCharges  TotalCharges Churn  \n",
       "0           Electronic check        29.8500         29.85    No  \n",
       "1               Mailed check        56.9500        1889.5    No  \n",
       "2               Mailed check        53.8500        108.15   Yes  \n",
       "3  Bank transfer (automatic)        42.3000       1840.75    No  \n",
       "4           Electronic check        70.7000        151.65   Yes  \n",
       "\n",
       "[5 rows x 21 columns]"
      ]
     },
     "execution_count": 3,
     "metadata": {},
     "output_type": "execute_result"
    }
   ],
   "source": [
    "data.head()"
   ]
  },
  {
   "cell_type": "code",
   "execution_count": 4,
   "id": "25e88957",
   "metadata": {},
   "outputs": [
    {
     "data": {
      "text/plain": [
       "customerID           object\n",
       "gender               object\n",
       "SeniorCitizen         int64\n",
       "Partner              object\n",
       "Dependents           object\n",
       "tenure                int64\n",
       "PhoneService         object\n",
       "MultipleLines        object\n",
       "InternetService      object\n",
       "OnlineSecurity       object\n",
       "OnlineBackup         object\n",
       "DeviceProtection     object\n",
       "TechSupport          object\n",
       "StreamingTV          object\n",
       "StreamingMovies      object\n",
       "Contract             object\n",
       "PaperlessBilling     object\n",
       "PaymentMethod        object\n",
       "MonthlyCharges      float64\n",
       "TotalCharges         object\n",
       "Churn                object\n",
       "dtype: object"
      ]
     },
     "execution_count": 4,
     "metadata": {},
     "output_type": "execute_result"
    }
   ],
   "source": [
    "data.dtypes"
   ]
  },
  {
   "cell_type": "markdown",
   "id": "b8674deb",
   "metadata": {},
   "source": [
    "### Data Preprocessing"
   ]
  },
  {
   "cell_type": "code",
   "execution_count": 5,
   "id": "40eaa769",
   "metadata": {},
   "outputs": [],
   "source": [
    "data = data.rename(columns={'customerID': 'CustomerID', 'gender': 'Gender', 'tenure': 'Tenure'})"
   ]
  },
  {
   "cell_type": "markdown",
   "id": "454996d9",
   "metadata": {},
   "source": [
    "Change the type of 'TotalCharges' and handle missing values"
   ]
  },
  {
   "cell_type": "code",
   "execution_count": 6,
   "id": "9ddee124",
   "metadata": {},
   "outputs": [
    {
     "data": {
      "text/plain": [
       "          11\n",
       "100.2      1\n",
       "100.25     1\n",
       "100.35     1\n",
       "100.4      1\n",
       "Name: TotalCharges, dtype: int64"
      ]
     },
     "execution_count": 6,
     "metadata": {},
     "output_type": "execute_result"
    }
   ],
   "source": [
    "data['TotalCharges'].value_counts().sort_index()[0:5]"
   ]
  },
  {
   "cell_type": "code",
   "execution_count": 7,
   "id": "3a029126",
   "metadata": {},
   "outputs": [],
   "source": [
    "data['TotalCharges'] = data['TotalCharges'].replace([data['TotalCharges'].value_counts().sort_index()[0:1].index[0]], 0)"
   ]
  },
  {
   "cell_type": "code",
   "execution_count": 8,
   "id": "a7e93565",
   "metadata": {},
   "outputs": [],
   "source": [
    "data['TotalCharges'] = data['TotalCharges'].astype(float)"
   ]
  },
  {
   "cell_type": "markdown",
   "id": "d5d3f56b",
   "metadata": {},
   "source": [
    "Check the missing values"
   ]
  },
  {
   "cell_type": "code",
   "execution_count": 9,
   "id": "da594eb7",
   "metadata": {},
   "outputs": [
    {
     "data": {
      "text/plain": [
       "CustomerID          0\n",
       "Gender              0\n",
       "SeniorCitizen       0\n",
       "Partner             0\n",
       "Dependents          0\n",
       "Tenure              0\n",
       "PhoneService        0\n",
       "MultipleLines       0\n",
       "InternetService     0\n",
       "OnlineSecurity      0\n",
       "OnlineBackup        0\n",
       "DeviceProtection    0\n",
       "TechSupport         0\n",
       "StreamingTV         0\n",
       "StreamingMovies     0\n",
       "Contract            0\n",
       "PaperlessBilling    0\n",
       "PaymentMethod       0\n",
       "MonthlyCharges      0\n",
       "TotalCharges        0\n",
       "Churn               0\n",
       "dtype: int64"
      ]
     },
     "execution_count": 9,
     "metadata": {},
     "output_type": "execute_result"
    }
   ],
   "source": [
    "data.isna().sum()"
   ]
  },
  {
   "cell_type": "markdown",
   "id": "0f152e80",
   "metadata": {},
   "source": [
    "Decode binary variables"
   ]
  },
  {
   "cell_type": "code",
   "execution_count": 10,
   "id": "0c9a185d",
   "metadata": {},
   "outputs": [],
   "source": [
    "for var in ['Partner', 'Dependents', 'PhoneService', 'PaperlessBilling', 'Churn']:\n",
    "    \n",
    "    data[var] = np.where(data[var] == 'No', 0, 1)"
   ]
  },
  {
   "cell_type": "markdown",
   "id": "4346525c",
   "metadata": {},
   "source": [
    "Edit values of categorical features to support model fitting with dummy variables later with these new column names"
   ]
  },
  {
   "cell_type": "code",
   "execution_count": 11,
   "id": "b1192664",
   "metadata": {},
   "outputs": [],
   "source": [
    "for var in ['MultipleLines', 'InternetService', 'OnlineSecurity', 'OnlineBackup', \n",
    "            'DeviceProtection', 'TechSupport', 'StreamingTV', 'StreamingMovies']:\n",
    "    \n",
    "    data[var] = data[var].apply(lambda x: x.title().replace(' ',''))\n",
    "    \n",
    "data['Contract'] = data['Contract'].map({'Month-to-month': 'MonthToMonth', 'One year': 'OneYear', 'Two year': 'TwoYear'})\n",
    "\n",
    "data['PaymentMethod'] = data['PaymentMethod'].map({'Bank transfer (automatic)': 'BankTransfer',\n",
    "                                                   'Credit card (automatic)': 'CreditCard',\n",
    "                                                   'Electronic check': 'ElectronicCheck',\n",
    "                                                   'Mailed check': 'MailedCheck'})"
   ]
  },
  {
   "cell_type": "markdown",
   "id": "d82eb9cb",
   "metadata": {},
   "source": [
    "Descriptive statistics"
   ]
  },
  {
   "cell_type": "code",
   "execution_count": 12,
   "id": "a6728fe8",
   "metadata": {},
   "outputs": [],
   "source": [
    "def describe_plus(data):\n",
    "    \n",
    "    describe = data.describe(include='all').T\n",
    "    unique = []\n",
    "    missing = []\n",
    "    \n",
    "    for c in list(describe.index):\n",
    "        \n",
    "        unique.append(data[c].nunique())\n",
    "        missing.append(data[c].isna().sum())\n",
    "        \n",
    "    describe['unique'] = unique\n",
    "    describe['missing'] = missing\n",
    "    describe['count'] = describe['count'].astype(int)\n",
    "    \n",
    "    return describe[['count','unique','missing']+list(describe.columns[4:11])]"
   ]
  },
  {
   "cell_type": "code",
   "execution_count": 13,
   "id": "06cdcbfd",
   "metadata": {},
   "outputs": [
    {
     "data": {
      "text/html": [
       "<div>\n",
       "<style scoped>\n",
       "    .dataframe tbody tr th:only-of-type {\n",
       "        vertical-align: middle;\n",
       "    }\n",
       "\n",
       "    .dataframe tbody tr th {\n",
       "        vertical-align: top;\n",
       "    }\n",
       "\n",
       "    .dataframe thead th {\n",
       "        text-align: right;\n",
       "    }\n",
       "</style>\n",
       "<table border=\"1\" class=\"dataframe\">\n",
       "  <thead>\n",
       "    <tr style=\"text-align: right;\">\n",
       "      <th></th>\n",
       "      <th>count</th>\n",
       "      <th>unique</th>\n",
       "      <th>missing</th>\n",
       "      <th>mean</th>\n",
       "      <th>std</th>\n",
       "      <th>min</th>\n",
       "      <th>25%</th>\n",
       "      <th>50%</th>\n",
       "      <th>75%</th>\n",
       "      <th>max</th>\n",
       "    </tr>\n",
       "  </thead>\n",
       "  <tbody>\n",
       "    <tr>\n",
       "      <th>CustomerID</th>\n",
       "      <td>7043</td>\n",
       "      <td>7043</td>\n",
       "      <td>0</td>\n",
       "      <td>NaN</td>\n",
       "      <td>NaN</td>\n",
       "      <td>NaN</td>\n",
       "      <td>NaN</td>\n",
       "      <td>NaN</td>\n",
       "      <td>NaN</td>\n",
       "      <td>NaN</td>\n",
       "    </tr>\n",
       "    <tr>\n",
       "      <th>Gender</th>\n",
       "      <td>7043</td>\n",
       "      <td>2</td>\n",
       "      <td>0</td>\n",
       "      <td>NaN</td>\n",
       "      <td>NaN</td>\n",
       "      <td>NaN</td>\n",
       "      <td>NaN</td>\n",
       "      <td>NaN</td>\n",
       "      <td>NaN</td>\n",
       "      <td>NaN</td>\n",
       "    </tr>\n",
       "    <tr>\n",
       "      <th>SeniorCitizen</th>\n",
       "      <td>7043</td>\n",
       "      <td>2</td>\n",
       "      <td>0</td>\n",
       "      <td>0.1621</td>\n",
       "      <td>0.3686</td>\n",
       "      <td>0.0000</td>\n",
       "      <td>0.0000</td>\n",
       "      <td>0.0000</td>\n",
       "      <td>0.0000</td>\n",
       "      <td>1.0000</td>\n",
       "    </tr>\n",
       "    <tr>\n",
       "      <th>Partner</th>\n",
       "      <td>7043</td>\n",
       "      <td>2</td>\n",
       "      <td>0</td>\n",
       "      <td>0.4830</td>\n",
       "      <td>0.4997</td>\n",
       "      <td>0.0000</td>\n",
       "      <td>0.0000</td>\n",
       "      <td>0.0000</td>\n",
       "      <td>1.0000</td>\n",
       "      <td>1.0000</td>\n",
       "    </tr>\n",
       "    <tr>\n",
       "      <th>Dependents</th>\n",
       "      <td>7043</td>\n",
       "      <td>2</td>\n",
       "      <td>0</td>\n",
       "      <td>0.2996</td>\n",
       "      <td>0.4581</td>\n",
       "      <td>0.0000</td>\n",
       "      <td>0.0000</td>\n",
       "      <td>0.0000</td>\n",
       "      <td>1.0000</td>\n",
       "      <td>1.0000</td>\n",
       "    </tr>\n",
       "    <tr>\n",
       "      <th>Tenure</th>\n",
       "      <td>7043</td>\n",
       "      <td>73</td>\n",
       "      <td>0</td>\n",
       "      <td>32.3711</td>\n",
       "      <td>24.5595</td>\n",
       "      <td>0.0000</td>\n",
       "      <td>9.0000</td>\n",
       "      <td>29.0000</td>\n",
       "      <td>55.0000</td>\n",
       "      <td>72.0000</td>\n",
       "    </tr>\n",
       "    <tr>\n",
       "      <th>PhoneService</th>\n",
       "      <td>7043</td>\n",
       "      <td>2</td>\n",
       "      <td>0</td>\n",
       "      <td>0.9032</td>\n",
       "      <td>0.2958</td>\n",
       "      <td>0.0000</td>\n",
       "      <td>1.0000</td>\n",
       "      <td>1.0000</td>\n",
       "      <td>1.0000</td>\n",
       "      <td>1.0000</td>\n",
       "    </tr>\n",
       "    <tr>\n",
       "      <th>MultipleLines</th>\n",
       "      <td>7043</td>\n",
       "      <td>3</td>\n",
       "      <td>0</td>\n",
       "      <td>NaN</td>\n",
       "      <td>NaN</td>\n",
       "      <td>NaN</td>\n",
       "      <td>NaN</td>\n",
       "      <td>NaN</td>\n",
       "      <td>NaN</td>\n",
       "      <td>NaN</td>\n",
       "    </tr>\n",
       "    <tr>\n",
       "      <th>InternetService</th>\n",
       "      <td>7043</td>\n",
       "      <td>3</td>\n",
       "      <td>0</td>\n",
       "      <td>NaN</td>\n",
       "      <td>NaN</td>\n",
       "      <td>NaN</td>\n",
       "      <td>NaN</td>\n",
       "      <td>NaN</td>\n",
       "      <td>NaN</td>\n",
       "      <td>NaN</td>\n",
       "    </tr>\n",
       "    <tr>\n",
       "      <th>OnlineSecurity</th>\n",
       "      <td>7043</td>\n",
       "      <td>3</td>\n",
       "      <td>0</td>\n",
       "      <td>NaN</td>\n",
       "      <td>NaN</td>\n",
       "      <td>NaN</td>\n",
       "      <td>NaN</td>\n",
       "      <td>NaN</td>\n",
       "      <td>NaN</td>\n",
       "      <td>NaN</td>\n",
       "    </tr>\n",
       "    <tr>\n",
       "      <th>OnlineBackup</th>\n",
       "      <td>7043</td>\n",
       "      <td>3</td>\n",
       "      <td>0</td>\n",
       "      <td>NaN</td>\n",
       "      <td>NaN</td>\n",
       "      <td>NaN</td>\n",
       "      <td>NaN</td>\n",
       "      <td>NaN</td>\n",
       "      <td>NaN</td>\n",
       "      <td>NaN</td>\n",
       "    </tr>\n",
       "    <tr>\n",
       "      <th>DeviceProtection</th>\n",
       "      <td>7043</td>\n",
       "      <td>3</td>\n",
       "      <td>0</td>\n",
       "      <td>NaN</td>\n",
       "      <td>NaN</td>\n",
       "      <td>NaN</td>\n",
       "      <td>NaN</td>\n",
       "      <td>NaN</td>\n",
       "      <td>NaN</td>\n",
       "      <td>NaN</td>\n",
       "    </tr>\n",
       "    <tr>\n",
       "      <th>TechSupport</th>\n",
       "      <td>7043</td>\n",
       "      <td>3</td>\n",
       "      <td>0</td>\n",
       "      <td>NaN</td>\n",
       "      <td>NaN</td>\n",
       "      <td>NaN</td>\n",
       "      <td>NaN</td>\n",
       "      <td>NaN</td>\n",
       "      <td>NaN</td>\n",
       "      <td>NaN</td>\n",
       "    </tr>\n",
       "    <tr>\n",
       "      <th>StreamingTV</th>\n",
       "      <td>7043</td>\n",
       "      <td>3</td>\n",
       "      <td>0</td>\n",
       "      <td>NaN</td>\n",
       "      <td>NaN</td>\n",
       "      <td>NaN</td>\n",
       "      <td>NaN</td>\n",
       "      <td>NaN</td>\n",
       "      <td>NaN</td>\n",
       "      <td>NaN</td>\n",
       "    </tr>\n",
       "    <tr>\n",
       "      <th>StreamingMovies</th>\n",
       "      <td>7043</td>\n",
       "      <td>3</td>\n",
       "      <td>0</td>\n",
       "      <td>NaN</td>\n",
       "      <td>NaN</td>\n",
       "      <td>NaN</td>\n",
       "      <td>NaN</td>\n",
       "      <td>NaN</td>\n",
       "      <td>NaN</td>\n",
       "      <td>NaN</td>\n",
       "    </tr>\n",
       "    <tr>\n",
       "      <th>Contract</th>\n",
       "      <td>7043</td>\n",
       "      <td>3</td>\n",
       "      <td>0</td>\n",
       "      <td>NaN</td>\n",
       "      <td>NaN</td>\n",
       "      <td>NaN</td>\n",
       "      <td>NaN</td>\n",
       "      <td>NaN</td>\n",
       "      <td>NaN</td>\n",
       "      <td>NaN</td>\n",
       "    </tr>\n",
       "    <tr>\n",
       "      <th>PaperlessBilling</th>\n",
       "      <td>7043</td>\n",
       "      <td>2</td>\n",
       "      <td>0</td>\n",
       "      <td>0.5922</td>\n",
       "      <td>0.4915</td>\n",
       "      <td>0.0000</td>\n",
       "      <td>0.0000</td>\n",
       "      <td>1.0000</td>\n",
       "      <td>1.0000</td>\n",
       "      <td>1.0000</td>\n",
       "    </tr>\n",
       "    <tr>\n",
       "      <th>PaymentMethod</th>\n",
       "      <td>7043</td>\n",
       "      <td>4</td>\n",
       "      <td>0</td>\n",
       "      <td>NaN</td>\n",
       "      <td>NaN</td>\n",
       "      <td>NaN</td>\n",
       "      <td>NaN</td>\n",
       "      <td>NaN</td>\n",
       "      <td>NaN</td>\n",
       "      <td>NaN</td>\n",
       "    </tr>\n",
       "    <tr>\n",
       "      <th>MonthlyCharges</th>\n",
       "      <td>7043</td>\n",
       "      <td>1585</td>\n",
       "      <td>0</td>\n",
       "      <td>64.7617</td>\n",
       "      <td>30.0900</td>\n",
       "      <td>18.2500</td>\n",
       "      <td>35.5000</td>\n",
       "      <td>70.3500</td>\n",
       "      <td>89.8500</td>\n",
       "      <td>118.7500</td>\n",
       "    </tr>\n",
       "    <tr>\n",
       "      <th>TotalCharges</th>\n",
       "      <td>7043</td>\n",
       "      <td>6531</td>\n",
       "      <td>0</td>\n",
       "      <td>2,279.7343</td>\n",
       "      <td>2,266.7945</td>\n",
       "      <td>0.0000</td>\n",
       "      <td>398.5500</td>\n",
       "      <td>1,394.5500</td>\n",
       "      <td>3,786.6000</td>\n",
       "      <td>8,684.8000</td>\n",
       "    </tr>\n",
       "    <tr>\n",
       "      <th>Churn</th>\n",
       "      <td>7043</td>\n",
       "      <td>2</td>\n",
       "      <td>0</td>\n",
       "      <td>0.2654</td>\n",
       "      <td>0.4416</td>\n",
       "      <td>0.0000</td>\n",
       "      <td>0.0000</td>\n",
       "      <td>0.0000</td>\n",
       "      <td>1.0000</td>\n",
       "      <td>1.0000</td>\n",
       "    </tr>\n",
       "  </tbody>\n",
       "</table>\n",
       "</div>"
      ],
      "text/plain": [
       "                  count  unique  missing       mean        std     min  \\\n",
       "CustomerID         7043    7043        0        NaN        NaN     NaN   \n",
       "Gender             7043       2        0        NaN        NaN     NaN   \n",
       "SeniorCitizen      7043       2        0     0.1621     0.3686  0.0000   \n",
       "Partner            7043       2        0     0.4830     0.4997  0.0000   \n",
       "Dependents         7043       2        0     0.2996     0.4581  0.0000   \n",
       "Tenure             7043      73        0    32.3711    24.5595  0.0000   \n",
       "PhoneService       7043       2        0     0.9032     0.2958  0.0000   \n",
       "MultipleLines      7043       3        0        NaN        NaN     NaN   \n",
       "InternetService    7043       3        0        NaN        NaN     NaN   \n",
       "OnlineSecurity     7043       3        0        NaN        NaN     NaN   \n",
       "OnlineBackup       7043       3        0        NaN        NaN     NaN   \n",
       "DeviceProtection   7043       3        0        NaN        NaN     NaN   \n",
       "TechSupport        7043       3        0        NaN        NaN     NaN   \n",
       "StreamingTV        7043       3        0        NaN        NaN     NaN   \n",
       "StreamingMovies    7043       3        0        NaN        NaN     NaN   \n",
       "Contract           7043       3        0        NaN        NaN     NaN   \n",
       "PaperlessBilling   7043       2        0     0.5922     0.4915  0.0000   \n",
       "PaymentMethod      7043       4        0        NaN        NaN     NaN   \n",
       "MonthlyCharges     7043    1585        0    64.7617    30.0900 18.2500   \n",
       "TotalCharges       7043    6531        0 2,279.7343 2,266.7945  0.0000   \n",
       "Churn              7043       2        0     0.2654     0.4416  0.0000   \n",
       "\n",
       "                      25%        50%        75%        max  \n",
       "CustomerID            NaN        NaN        NaN        NaN  \n",
       "Gender                NaN        NaN        NaN        NaN  \n",
       "SeniorCitizen      0.0000     0.0000     0.0000     1.0000  \n",
       "Partner            0.0000     0.0000     1.0000     1.0000  \n",
       "Dependents         0.0000     0.0000     1.0000     1.0000  \n",
       "Tenure             9.0000    29.0000    55.0000    72.0000  \n",
       "PhoneService       1.0000     1.0000     1.0000     1.0000  \n",
       "MultipleLines         NaN        NaN        NaN        NaN  \n",
       "InternetService       NaN        NaN        NaN        NaN  \n",
       "OnlineSecurity        NaN        NaN        NaN        NaN  \n",
       "OnlineBackup          NaN        NaN        NaN        NaN  \n",
       "DeviceProtection      NaN        NaN        NaN        NaN  \n",
       "TechSupport           NaN        NaN        NaN        NaN  \n",
       "StreamingTV           NaN        NaN        NaN        NaN  \n",
       "StreamingMovies       NaN        NaN        NaN        NaN  \n",
       "Contract              NaN        NaN        NaN        NaN  \n",
       "PaperlessBilling   0.0000     1.0000     1.0000     1.0000  \n",
       "PaymentMethod         NaN        NaN        NaN        NaN  \n",
       "MonthlyCharges    35.5000    70.3500    89.8500   118.7500  \n",
       "TotalCharges     398.5500 1,394.5500 3,786.6000 8,684.8000  \n",
       "Churn              0.0000     0.0000     1.0000     1.0000  "
      ]
     },
     "execution_count": 13,
     "metadata": {},
     "output_type": "execute_result"
    }
   ],
   "source": [
    "describe_plus(data)"
   ]
  },
  {
   "cell_type": "markdown",
   "id": "013a12d5",
   "metadata": {},
   "source": [
    "### Train-test split"
   ]
  },
  {
   "cell_type": "code",
   "execution_count": 14,
   "id": "843e801e",
   "metadata": {},
   "outputs": [],
   "source": [
    "random_split = 42\n",
    "\n",
    "from sklearn.model_selection import train_test_split\n",
    "train_data, test_data = train_test_split(data, test_size=0.3, random_state=random_split)"
   ]
  },
  {
   "cell_type": "markdown",
   "id": "765561be",
   "metadata": {},
   "source": [
    "### Feature engineering"
   ]
  },
  {
   "cell_type": "markdown",
   "id": "28f98ba2",
   "metadata": {},
   "source": [
    "#### I. Create grouped variables based on Weight of Evidence"
   ]
  },
  {
   "cell_type": "code",
   "execution_count": 15,
   "id": "48af7210",
   "metadata": {},
   "outputs": [],
   "source": [
    "features = train_data.columns[1:20].tolist() #list of raw features"
   ]
  },
  {
   "cell_type": "markdown",
   "id": "c0fbc4b8",
   "metadata": {},
   "source": [
    "Handle categorical features by decoding values with Weight of Evidence"
   ]
  },
  {
   "cell_type": "code",
   "execution_count": 16,
   "id": "bbdd7cd7",
   "metadata": {},
   "outputs": [],
   "source": [
    "features_cat = train_data[features].dtypes[train_data[features].dtypes=='object'].index.tolist()"
   ]
  },
  {
   "cell_type": "markdown",
   "id": "24951d2b",
   "metadata": {},
   "source": [
    "Change the type of categorical features to 'str' from 'int'"
   ]
  },
  {
   "cell_type": "code",
   "execution_count": 17,
   "id": "86fe1de6",
   "metadata": {},
   "outputs": [],
   "source": [
    "for df in [train_data, test_data]:\n",
    "    \n",
    "    df[features_cat] = df[features_cat].apply(lambda x: x.astype('str'))"
   ]
  },
  {
   "cell_type": "code",
   "execution_count": 18,
   "id": "4de1fba3",
   "metadata": {},
   "outputs": [],
   "source": [
    "%run -i py/woe_decode_cat_vars.py"
   ]
  },
  {
   "cell_type": "code",
   "execution_count": 19,
   "id": "2e21faf3",
   "metadata": {},
   "outputs": [
    {
     "data": {
      "text/html": [
       "<div>\n",
       "<style scoped>\n",
       "    .dataframe tbody tr th:only-of-type {\n",
       "        vertical-align: middle;\n",
       "    }\n",
       "\n",
       "    .dataframe tbody tr th {\n",
       "        vertical-align: top;\n",
       "    }\n",
       "\n",
       "    .dataframe thead th {\n",
       "        text-align: right;\n",
       "    }\n",
       "</style>\n",
       "<table border=\"1\" class=\"dataframe\">\n",
       "  <thead>\n",
       "    <tr style=\"text-align: right;\">\n",
       "      <th></th>\n",
       "      <th>variable_name</th>\n",
       "      <th>value</th>\n",
       "      <th>woe</th>\n",
       "    </tr>\n",
       "  </thead>\n",
       "  <tbody>\n",
       "    <tr>\n",
       "      <th>0</th>\n",
       "      <td>Gender</td>\n",
       "      <td>Male</td>\n",
       "      <td>0.0358</td>\n",
       "    </tr>\n",
       "    <tr>\n",
       "      <th>1</th>\n",
       "      <td>Gender</td>\n",
       "      <td>Female</td>\n",
       "      <td>-0.0376</td>\n",
       "    </tr>\n",
       "    <tr>\n",
       "      <th>0</th>\n",
       "      <td>MultipleLines</td>\n",
       "      <td>No</td>\n",
       "      <td>0.0501</td>\n",
       "    </tr>\n",
       "    <tr>\n",
       "      <th>1</th>\n",
       "      <td>MultipleLines</td>\n",
       "      <td>Yes</td>\n",
       "      <td>-0.0771</td>\n",
       "    </tr>\n",
       "    <tr>\n",
       "      <th>2</th>\n",
       "      <td>MultipleLines</td>\n",
       "      <td>NoPhoneService</td>\n",
       "      <td>0.1098</td>\n",
       "    </tr>\n",
       "    <tr>\n",
       "      <th>0</th>\n",
       "      <td>InternetService</td>\n",
       "      <td>FiberOptic</td>\n",
       "      <td>-0.6773</td>\n",
       "    </tr>\n",
       "    <tr>\n",
       "      <th>1</th>\n",
       "      <td>InternetService</td>\n",
       "      <td>Dsl</td>\n",
       "      <td>0.4135</td>\n",
       "    </tr>\n",
       "    <tr>\n",
       "      <th>2</th>\n",
       "      <td>InternetService</td>\n",
       "      <td>No</td>\n",
       "      <td>1.4639</td>\n",
       "    </tr>\n",
       "    <tr>\n",
       "      <th>0</th>\n",
       "      <td>OnlineSecurity</td>\n",
       "      <td>No</td>\n",
       "      <td>-0.6800</td>\n",
       "    </tr>\n",
       "  </tbody>\n",
       "</table>\n",
       "</div>"
      ],
      "text/plain": [
       "     variable_name           value     woe\n",
       "0           Gender            Male  0.0358\n",
       "1           Gender          Female -0.0376\n",
       "0    MultipleLines              No  0.0501\n",
       "1    MultipleLines             Yes -0.0771\n",
       "2    MultipleLines  NoPhoneService  0.1098\n",
       "0  InternetService      FiberOptic -0.6773\n",
       "1  InternetService             Dsl  0.4135\n",
       "2  InternetService              No  1.4639\n",
       "0   OnlineSecurity              No -0.6800"
      ]
     },
     "execution_count": 19,
     "metadata": {},
     "output_type": "execute_result"
    }
   ],
   "source": [
    "cat_table.head(9)"
   ]
  },
  {
   "cell_type": "code",
   "execution_count": 20,
   "id": "dab7a0d1",
   "metadata": {
    "scrolled": true
   },
   "outputs": [
    {
     "data": {
      "text/html": [
       "<div>\n",
       "<style scoped>\n",
       "    .dataframe tbody tr th:only-of-type {\n",
       "        vertical-align: middle;\n",
       "    }\n",
       "\n",
       "    .dataframe tbody tr th {\n",
       "        vertical-align: top;\n",
       "    }\n",
       "\n",
       "    .dataframe thead th {\n",
       "        text-align: right;\n",
       "    }\n",
       "</style>\n",
       "<table border=\"1\" class=\"dataframe\">\n",
       "  <thead>\n",
       "    <tr style=\"text-align: right;\">\n",
       "      <th></th>\n",
       "      <th>DEC_Gender</th>\n",
       "      <th>DEC_MultipleLines</th>\n",
       "      <th>DEC_InternetService</th>\n",
       "      <th>DEC_OnlineSecurity</th>\n",
       "      <th>DEC_OnlineBackup</th>\n",
       "      <th>DEC_DeviceProtection</th>\n",
       "      <th>DEC_TechSupport</th>\n",
       "      <th>DEC_StreamingTV</th>\n",
       "      <th>DEC_StreamingMovies</th>\n",
       "      <th>DEC_Contract</th>\n",
       "      <th>DEC_PaymentMethod</th>\n",
       "    </tr>\n",
       "  </thead>\n",
       "  <tbody>\n",
       "    <tr>\n",
       "      <th>1695</th>\n",
       "      <td>0.0358</td>\n",
       "      <td>-0.0771</td>\n",
       "      <td>0.4135</td>\n",
       "      <td>-0.6800</td>\n",
       "      <td>0.2709</td>\n",
       "      <td>-0.5534</td>\n",
       "      <td>0.6497</td>\n",
       "      <td>-0.1399</td>\n",
       "      <td>-0.3280</td>\n",
       "      <td>0.9557</td>\n",
       "      <td>-0.8054</td>\n",
       "    </tr>\n",
       "    <tr>\n",
       "      <th>1095</th>\n",
       "      <td>0.0358</td>\n",
       "      <td>0.0501</td>\n",
       "      <td>-0.6773</td>\n",
       "      <td>-0.6800</td>\n",
       "      <td>-0.6091</td>\n",
       "      <td>-0.5534</td>\n",
       "      <td>-0.6592</td>\n",
       "      <td>-0.1399</td>\n",
       "      <td>-0.3280</td>\n",
       "      <td>-0.7203</td>\n",
       "      <td>-0.8054</td>\n",
       "    </tr>\n",
       "    <tr>\n",
       "      <th>3889</th>\n",
       "      <td>0.0358</td>\n",
       "      <td>0.0501</td>\n",
       "      <td>1.4639</td>\n",
       "      <td>1.4639</td>\n",
       "      <td>1.4639</td>\n",
       "      <td>1.4639</td>\n",
       "      <td>1.4639</td>\n",
       "      <td>1.4639</td>\n",
       "      <td>1.4639</td>\n",
       "      <td>0.9557</td>\n",
       "      <td>0.7007</td>\n",
       "    </tr>\n",
       "    <tr>\n",
       "      <th>3667</th>\n",
       "      <td>-0.0376</td>\n",
       "      <td>0.0501</td>\n",
       "      <td>-0.6773</td>\n",
       "      <td>-0.6800</td>\n",
       "      <td>-0.6091</td>\n",
       "      <td>0.1959</td>\n",
       "      <td>-0.6592</td>\n",
       "      <td>-0.1399</td>\n",
       "      <td>-0.1786</td>\n",
       "      <td>2.5858</td>\n",
       "      <td>-0.8054</td>\n",
       "    </tr>\n",
       "    <tr>\n",
       "      <th>2902</th>\n",
       "      <td>-0.0376</td>\n",
       "      <td>0.0501</td>\n",
       "      <td>-0.6773</td>\n",
       "      <td>0.7367</td>\n",
       "      <td>-0.6091</td>\n",
       "      <td>-0.5534</td>\n",
       "      <td>-0.6592</td>\n",
       "      <td>-0.3620</td>\n",
       "      <td>-0.3280</td>\n",
       "      <td>-0.7203</td>\n",
       "      <td>-0.8054</td>\n",
       "    </tr>\n",
       "  </tbody>\n",
       "</table>\n",
       "</div>"
      ],
      "text/plain": [
       "      DEC_Gender  DEC_MultipleLines  DEC_InternetService  DEC_OnlineSecurity  \\\n",
       "1695      0.0358            -0.0771               0.4135             -0.6800   \n",
       "1095      0.0358             0.0501              -0.6773             -0.6800   \n",
       "3889      0.0358             0.0501               1.4639              1.4639   \n",
       "3667     -0.0376             0.0501              -0.6773             -0.6800   \n",
       "2902     -0.0376             0.0501              -0.6773              0.7367   \n",
       "\n",
       "      DEC_OnlineBackup  DEC_DeviceProtection  DEC_TechSupport  \\\n",
       "1695            0.2709               -0.5534           0.6497   \n",
       "1095           -0.6091               -0.5534          -0.6592   \n",
       "3889            1.4639                1.4639           1.4639   \n",
       "3667           -0.6091                0.1959          -0.6592   \n",
       "2902           -0.6091               -0.5534          -0.6592   \n",
       "\n",
       "      DEC_StreamingTV  DEC_StreamingMovies  DEC_Contract  DEC_PaymentMethod  \n",
       "1695          -0.1399              -0.3280        0.9557            -0.8054  \n",
       "1095          -0.1399              -0.3280       -0.7203            -0.8054  \n",
       "3889           1.4639               1.4639        0.9557             0.7007  \n",
       "3667          -0.1399              -0.1786        2.5858            -0.8054  \n",
       "2902          -0.3620              -0.3280       -0.7203            -0.8054  "
      ]
     },
     "execution_count": 20,
     "metadata": {},
     "output_type": "execute_result"
    }
   ],
   "source": [
    "train_data.iloc[:,-11:].head()"
   ]
  },
  {
   "cell_type": "code",
   "execution_count": 21,
   "id": "babd350b",
   "metadata": {},
   "outputs": [
    {
     "data": {
      "text/html": [
       "<div>\n",
       "<style scoped>\n",
       "    .dataframe tbody tr th:only-of-type {\n",
       "        vertical-align: middle;\n",
       "    }\n",
       "\n",
       "    .dataframe tbody tr th {\n",
       "        vertical-align: top;\n",
       "    }\n",
       "\n",
       "    .dataframe thead th {\n",
       "        text-align: right;\n",
       "    }\n",
       "</style>\n",
       "<table border=\"1\" class=\"dataframe\">\n",
       "  <thead>\n",
       "    <tr style=\"text-align: right;\">\n",
       "      <th></th>\n",
       "      <th>DEC_Gender</th>\n",
       "      <th>DEC_MultipleLines</th>\n",
       "      <th>DEC_InternetService</th>\n",
       "      <th>DEC_OnlineSecurity</th>\n",
       "      <th>DEC_OnlineBackup</th>\n",
       "      <th>DEC_DeviceProtection</th>\n",
       "      <th>DEC_TechSupport</th>\n",
       "      <th>DEC_StreamingTV</th>\n",
       "      <th>DEC_StreamingMovies</th>\n",
       "      <th>DEC_Contract</th>\n",
       "      <th>DEC_PaymentMethod</th>\n",
       "    </tr>\n",
       "  </thead>\n",
       "  <tbody>\n",
       "    <tr>\n",
       "      <th>185</th>\n",
       "      <td>-0.0376</td>\n",
       "      <td>0.1098</td>\n",
       "      <td>0.4135</td>\n",
       "      <td>-0.6800</td>\n",
       "      <td>-0.6091</td>\n",
       "      <td>-0.5534</td>\n",
       "      <td>-0.6592</td>\n",
       "      <td>-0.3620</td>\n",
       "      <td>-0.3280</td>\n",
       "      <td>-0.7203</td>\n",
       "      <td>-0.8054</td>\n",
       "    </tr>\n",
       "    <tr>\n",
       "      <th>2715</th>\n",
       "      <td>0.0358</td>\n",
       "      <td>-0.0771</td>\n",
       "      <td>1.4639</td>\n",
       "      <td>1.4639</td>\n",
       "      <td>1.4639</td>\n",
       "      <td>1.4639</td>\n",
       "      <td>1.4639</td>\n",
       "      <td>1.4639</td>\n",
       "      <td>1.4639</td>\n",
       "      <td>-0.7203</td>\n",
       "      <td>0.5445</td>\n",
       "    </tr>\n",
       "    <tr>\n",
       "      <th>3825</th>\n",
       "      <td>-0.0376</td>\n",
       "      <td>0.0501</td>\n",
       "      <td>1.4639</td>\n",
       "      <td>1.4639</td>\n",
       "      <td>1.4639</td>\n",
       "      <td>1.4639</td>\n",
       "      <td>1.4639</td>\n",
       "      <td>1.4639</td>\n",
       "      <td>1.4639</td>\n",
       "      <td>2.5858</td>\n",
       "      <td>0.4265</td>\n",
       "    </tr>\n",
       "    <tr>\n",
       "      <th>1807</th>\n",
       "      <td>-0.0376</td>\n",
       "      <td>0.0501</td>\n",
       "      <td>-0.6773</td>\n",
       "      <td>-0.6800</td>\n",
       "      <td>-0.6091</td>\n",
       "      <td>0.1959</td>\n",
       "      <td>-0.6592</td>\n",
       "      <td>-0.3620</td>\n",
       "      <td>-0.3280</td>\n",
       "      <td>-0.7203</td>\n",
       "      <td>-0.8054</td>\n",
       "    </tr>\n",
       "    <tr>\n",
       "      <th>132</th>\n",
       "      <td>0.0358</td>\n",
       "      <td>0.0501</td>\n",
       "      <td>0.4135</td>\n",
       "      <td>-0.6800</td>\n",
       "      <td>-0.6091</td>\n",
       "      <td>-0.5534</td>\n",
       "      <td>0.6497</td>\n",
       "      <td>-0.3620</td>\n",
       "      <td>-0.3280</td>\n",
       "      <td>2.5858</td>\n",
       "      <td>0.5445</td>\n",
       "    </tr>\n",
       "  </tbody>\n",
       "</table>\n",
       "</div>"
      ],
      "text/plain": [
       "      DEC_Gender  DEC_MultipleLines  DEC_InternetService  DEC_OnlineSecurity  \\\n",
       "185      -0.0376             0.1098               0.4135             -0.6800   \n",
       "2715      0.0358            -0.0771               1.4639              1.4639   \n",
       "3825     -0.0376             0.0501               1.4639              1.4639   \n",
       "1807     -0.0376             0.0501              -0.6773             -0.6800   \n",
       "132       0.0358             0.0501               0.4135             -0.6800   \n",
       "\n",
       "      DEC_OnlineBackup  DEC_DeviceProtection  DEC_TechSupport  \\\n",
       "185            -0.6091               -0.5534          -0.6592   \n",
       "2715            1.4639                1.4639           1.4639   \n",
       "3825            1.4639                1.4639           1.4639   \n",
       "1807           -0.6091                0.1959          -0.6592   \n",
       "132            -0.6091               -0.5534           0.6497   \n",
       "\n",
       "      DEC_StreamingTV  DEC_StreamingMovies  DEC_Contract  DEC_PaymentMethod  \n",
       "185           -0.3620              -0.3280       -0.7203            -0.8054  \n",
       "2715           1.4639               1.4639       -0.7203             0.5445  \n",
       "3825           1.4639               1.4639        2.5858             0.4265  \n",
       "1807          -0.3620              -0.3280       -0.7203            -0.8054  \n",
       "132           -0.3620              -0.3280        2.5858             0.5445  "
      ]
     },
     "execution_count": 21,
     "metadata": {},
     "output_type": "execute_result"
    }
   ],
   "source": [
    "test_data.iloc[:,-11:].head()"
   ]
  },
  {
   "cell_type": "markdown",
   "id": "8fcfdeb3",
   "metadata": {},
   "source": [
    "**Fine classing** step in the process of Credit Risk Scorecard building.\n",
    "\n",
    "Create equally-sized binned variables, if it is possible. Otherwise use the raw values (categories) as bins.\n",
    "\n",
    "In this task I would like to create 10 bins for all of the variables."
   ]
  },
  {
   "cell_type": "code",
   "execution_count": 22,
   "id": "6701c9ce",
   "metadata": {},
   "outputs": [],
   "source": [
    "%run -i py/woe_fine_class.py"
   ]
  },
  {
   "cell_type": "code",
   "execution_count": 23,
   "id": "6d3efeb1",
   "metadata": {},
   "outputs": [
    {
     "data": {
      "text/html": [
       "<div>\n",
       "<style scoped>\n",
       "    .dataframe tbody tr th:only-of-type {\n",
       "        vertical-align: middle;\n",
       "    }\n",
       "\n",
       "    .dataframe tbody tr th {\n",
       "        vertical-align: top;\n",
       "    }\n",
       "\n",
       "    .dataframe thead th {\n",
       "        text-align: right;\n",
       "    }\n",
       "</style>\n",
       "<table border=\"1\" class=\"dataframe\">\n",
       "  <thead>\n",
       "    <tr style=\"text-align: right;\">\n",
       "      <th></th>\n",
       "      <th>orig_name</th>\n",
       "      <th>grp_name</th>\n",
       "      <th>grp</th>\n",
       "      <th>cnt</th>\n",
       "      <th>bad</th>\n",
       "      <th>good</th>\n",
       "      <th>min</th>\n",
       "      <th>max</th>\n",
       "      <th>pct_total</th>\n",
       "      <th>pct_bad</th>\n",
       "      <th>pct_good</th>\n",
       "      <th>target_rate</th>\n",
       "      <th>woe</th>\n",
       "      <th>iv</th>\n",
       "    </tr>\n",
       "  </thead>\n",
       "  <tbody>\n",
       "    <tr>\n",
       "      <th>0</th>\n",
       "      <td>DEC_Gender</td>\n",
       "      <td>GRP_DEC_Gender</td>\n",
       "      <td>0</td>\n",
       "      <td>2385</td>\n",
       "      <td>644</td>\n",
       "      <td>1741</td>\n",
       "      <td>-0.0376</td>\n",
       "      <td>-0.0376</td>\n",
       "      <td>0.4838</td>\n",
       "      <td>0.4973</td>\n",
       "      <td>0.4790</td>\n",
       "      <td>0.2700</td>\n",
       "      <td>-0.0376</td>\n",
       "      <td>0.0007</td>\n",
       "    </tr>\n",
       "    <tr>\n",
       "      <th>1</th>\n",
       "      <td>DEC_Gender</td>\n",
       "      <td>GRP_DEC_Gender</td>\n",
       "      <td>1</td>\n",
       "      <td>2545</td>\n",
       "      <td>651</td>\n",
       "      <td>1894</td>\n",
       "      <td>0.0358</td>\n",
       "      <td>0.0358</td>\n",
       "      <td>0.5162</td>\n",
       "      <td>0.5027</td>\n",
       "      <td>0.5210</td>\n",
       "      <td>0.2558</td>\n",
       "      <td>0.0358</td>\n",
       "      <td>0.0007</td>\n",
       "    </tr>\n",
       "    <tr>\n",
       "      <th>0</th>\n",
       "      <td>SeniorCitizen</td>\n",
       "      <td>GRP_SeniorCitizen</td>\n",
       "      <td>0</td>\n",
       "      <td>4140</td>\n",
       "      <td>967</td>\n",
       "      <td>3173</td>\n",
       "      <td>0.0000</td>\n",
       "      <td>0.0000</td>\n",
       "      <td>0.8398</td>\n",
       "      <td>0.7467</td>\n",
       "      <td>0.8729</td>\n",
       "      <td>0.2336</td>\n",
       "      <td>0.1561</td>\n",
       "      <td>0.0197</td>\n",
       "    </tr>\n",
       "    <tr>\n",
       "      <th>1</th>\n",
       "      <td>SeniorCitizen</td>\n",
       "      <td>GRP_SeniorCitizen</td>\n",
       "      <td>1</td>\n",
       "      <td>790</td>\n",
       "      <td>328</td>\n",
       "      <td>462</td>\n",
       "      <td>1.0000</td>\n",
       "      <td>1.0000</td>\n",
       "      <td>0.1602</td>\n",
       "      <td>0.2533</td>\n",
       "      <td>0.1271</td>\n",
       "      <td>0.4152</td>\n",
       "      <td>-0.6895</td>\n",
       "      <td>0.0870</td>\n",
       "    </tr>\n",
       "    <tr>\n",
       "      <th>0</th>\n",
       "      <td>Partner</td>\n",
       "      <td>GRP_Partner</td>\n",
       "      <td>0</td>\n",
       "      <td>2538</td>\n",
       "      <td>826</td>\n",
       "      <td>1712</td>\n",
       "      <td>0.0000</td>\n",
       "      <td>0.0000</td>\n",
       "      <td>0.5148</td>\n",
       "      <td>0.6378</td>\n",
       "      <td>0.4710</td>\n",
       "      <td>0.3255</td>\n",
       "      <td>-0.3033</td>\n",
       "      <td>0.0506</td>\n",
       "    </tr>\n",
       "  </tbody>\n",
       "</table>\n",
       "</div>"
      ],
      "text/plain": [
       "       orig_name           grp_name  grp   cnt  bad  good     min     max  \\\n",
       "0     DEC_Gender     GRP_DEC_Gender    0  2385  644  1741 -0.0376 -0.0376   \n",
       "1     DEC_Gender     GRP_DEC_Gender    1  2545  651  1894  0.0358  0.0358   \n",
       "0  SeniorCitizen  GRP_SeniorCitizen    0  4140  967  3173  0.0000  0.0000   \n",
       "1  SeniorCitizen  GRP_SeniorCitizen    1   790  328   462  1.0000  1.0000   \n",
       "0        Partner        GRP_Partner    0  2538  826  1712  0.0000  0.0000   \n",
       "\n",
       "   pct_total  pct_bad  pct_good  target_rate     woe     iv  \n",
       "0     0.4838   0.4973    0.4790       0.2700 -0.0376 0.0007  \n",
       "1     0.5162   0.5027    0.5210       0.2558  0.0358 0.0007  \n",
       "0     0.8398   0.7467    0.8729       0.2336  0.1561 0.0197  \n",
       "1     0.1602   0.2533    0.1271       0.4152 -0.6895 0.0870  \n",
       "0     0.5148   0.6378    0.4710       0.3255 -0.3033 0.0506  "
      ]
     },
     "execution_count": 23,
     "metadata": {},
     "output_type": "execute_result"
    }
   ],
   "source": [
    "fine_stats.head()"
   ]
  },
  {
   "cell_type": "code",
   "execution_count": 24,
   "id": "dbeba52c",
   "metadata": {},
   "outputs": [
    {
     "data": {
      "text/html": [
       "<div>\n",
       "<style scoped>\n",
       "    .dataframe tbody tr th:only-of-type {\n",
       "        vertical-align: middle;\n",
       "    }\n",
       "\n",
       "    .dataframe tbody tr th {\n",
       "        vertical-align: top;\n",
       "    }\n",
       "\n",
       "    .dataframe thead th {\n",
       "        text-align: right;\n",
       "    }\n",
       "</style>\n",
       "<table border=\"1\" class=\"dataframe\">\n",
       "  <thead>\n",
       "    <tr style=\"text-align: right;\">\n",
       "      <th></th>\n",
       "      <th>variable_name</th>\n",
       "      <th>iv</th>\n",
       "      <th>gini</th>\n",
       "    </tr>\n",
       "  </thead>\n",
       "  <tbody>\n",
       "    <tr>\n",
       "      <th>0</th>\n",
       "      <td>GRP_DEC_Contract</td>\n",
       "      <td>1.2344</td>\n",
       "      <td>0.4758</td>\n",
       "    </tr>\n",
       "    <tr>\n",
       "      <th>1</th>\n",
       "      <td>GRP_Tenure</td>\n",
       "      <td>0.8074</td>\n",
       "      <td>0.4680</td>\n",
       "    </tr>\n",
       "    <tr>\n",
       "      <th>2</th>\n",
       "      <td>GRP_DEC_OnlineSecurity</td>\n",
       "      <td>0.6966</td>\n",
       "      <td>0.4062</td>\n",
       "    </tr>\n",
       "    <tr>\n",
       "      <th>3</th>\n",
       "      <td>GRP_DEC_TechSupport</td>\n",
       "      <td>0.6538</td>\n",
       "      <td>0.3950</td>\n",
       "    </tr>\n",
       "    <tr>\n",
       "      <th>4</th>\n",
       "      <td>GRP_DEC_InternetService</td>\n",
       "      <td>0.5899</td>\n",
       "      <td>0.3825</td>\n",
       "    </tr>\n",
       "  </tbody>\n",
       "</table>\n",
       "</div>"
      ],
      "text/plain": [
       "             variable_name     iv   gini\n",
       "0         GRP_DEC_Contract 1.2344 0.4758\n",
       "1               GRP_Tenure 0.8074 0.4680\n",
       "2   GRP_DEC_OnlineSecurity 0.6966 0.4062\n",
       "3      GRP_DEC_TechSupport 0.6538 0.3950\n",
       "4  GRP_DEC_InternetService 0.5899 0.3825"
      ]
     },
     "execution_count": 24,
     "metadata": {},
     "output_type": "execute_result"
    }
   ],
   "source": [
    "fine_ivgini.sort_values(by='iv',ascending=False).reset_index(drop=True).head()"
   ]
  },
  {
   "cell_type": "markdown",
   "id": "7af10dba",
   "metadata": {},
   "source": [
    "Keep only those variables where the Information Value is greater than 0.1"
   ]
  },
  {
   "cell_type": "code",
   "execution_count": 25,
   "id": "1ad67ce8",
   "metadata": {},
   "outputs": [],
   "source": [
    "features_fine = list(x[4:] for x in fine_ivgini.loc[fine_ivgini['iv'] >= 0.1].sort_values(by='iv',ascending=False).reset_index(drop=True)['variable_name'])"
   ]
  },
  {
   "cell_type": "markdown",
   "id": "2c7cf01c",
   "metadata": {},
   "source": [
    "**Coarse classing** step in the process of Credit Risk Scorecard building.\n",
    "\n",
    "Merge adjacent bins of the previously created grouped variables in the Fine classing step.\n",
    "\n",
    "In this task I would like to merge and create 5 bins at maximum but it depends on the splitting algorithm. The goal is to choose the best *monotonous* merged version from all of the variables with the highest Information Value."
   ]
  },
  {
   "cell_type": "code",
   "execution_count": 26,
   "id": "d11294d9",
   "metadata": {},
   "outputs": [],
   "source": [
    "%run -i py/woe_coarse_class.py"
   ]
  },
  {
   "cell_type": "markdown",
   "id": "92dc2d4c",
   "metadata": {},
   "source": [
    "Keep only those variables where the Information Value is greater 0.1 and the merged groups are monotonous."
   ]
  },
  {
   "cell_type": "code",
   "execution_count": 27,
   "id": "9da32471",
   "metadata": {},
   "outputs": [],
   "source": [
    "features_coarse = filter_coarse_vars(features_fine, 0.1, coarse_ivgini)"
   ]
  },
  {
   "cell_type": "code",
   "execution_count": 28,
   "id": "9c7d1691",
   "metadata": {},
   "outputs": [
    {
     "data": {
      "text/html": [
       "<div>\n",
       "<style scoped>\n",
       "    .dataframe tbody tr th:only-of-type {\n",
       "        vertical-align: middle;\n",
       "    }\n",
       "\n",
       "    .dataframe tbody tr th {\n",
       "        vertical-align: top;\n",
       "    }\n",
       "\n",
       "    .dataframe thead th {\n",
       "        text-align: right;\n",
       "    }\n",
       "</style>\n",
       "<table border=\"1\" class=\"dataframe\">\n",
       "  <thead>\n",
       "    <tr style=\"text-align: right;\">\n",
       "      <th></th>\n",
       "      <th>orig_name</th>\n",
       "      <th>grp_name</th>\n",
       "      <th>grp</th>\n",
       "      <th>cnt</th>\n",
       "      <th>bad</th>\n",
       "      <th>good</th>\n",
       "      <th>min</th>\n",
       "      <th>max</th>\n",
       "      <th>pct_total</th>\n",
       "      <th>pct_bad</th>\n",
       "      <th>pct_good</th>\n",
       "      <th>target_rate</th>\n",
       "      <th>woe</th>\n",
       "      <th>iv</th>\n",
       "    </tr>\n",
       "  </thead>\n",
       "  <tbody>\n",
       "    <tr>\n",
       "      <th>0</th>\n",
       "      <td>DEC_Contract</td>\n",
       "      <td>C3_DEC_Contract</td>\n",
       "      <td>0</td>\n",
       "      <td>2690</td>\n",
       "      <td>1137</td>\n",
       "      <td>1553</td>\n",
       "      <td>-0.7203</td>\n",
       "      <td>-0.7203</td>\n",
       "      <td>0.5456</td>\n",
       "      <td>0.8780</td>\n",
       "      <td>0.4272</td>\n",
       "      <td>0.4227</td>\n",
       "      <td>-0.7203</td>\n",
       "      <td>0.3247</td>\n",
       "    </tr>\n",
       "    <tr>\n",
       "      <th>1</th>\n",
       "      <td>DEC_Contract</td>\n",
       "      <td>C3_DEC_Contract</td>\n",
       "      <td>1</td>\n",
       "      <td>1054</td>\n",
       "      <td>127</td>\n",
       "      <td>927</td>\n",
       "      <td>0.9557</td>\n",
       "      <td>0.9557</td>\n",
       "      <td>0.2138</td>\n",
       "      <td>0.0981</td>\n",
       "      <td>0.2550</td>\n",
       "      <td>0.1205</td>\n",
       "      <td>0.9557</td>\n",
       "      <td>0.1500</td>\n",
       "    </tr>\n",
       "    <tr>\n",
       "      <th>2</th>\n",
       "      <td>DEC_Contract</td>\n",
       "      <td>C3_DEC_Contract</td>\n",
       "      <td>2</td>\n",
       "      <td>1186</td>\n",
       "      <td>31</td>\n",
       "      <td>1155</td>\n",
       "      <td>2.5858</td>\n",
       "      <td>2.5858</td>\n",
       "      <td>0.2406</td>\n",
       "      <td>0.0239</td>\n",
       "      <td>0.3177</td>\n",
       "      <td>0.0261</td>\n",
       "      <td>2.5858</td>\n",
       "      <td>0.7597</td>\n",
       "    </tr>\n",
       "    <tr>\n",
       "      <th>0</th>\n",
       "      <td>Tenure</td>\n",
       "      <td>C5_Tenure</td>\n",
       "      <td>0</td>\n",
       "      <td>580</td>\n",
       "      <td>334</td>\n",
       "      <td>246</td>\n",
       "      <td>0.0000</td>\n",
       "      <td>2.0000</td>\n",
       "      <td>0.1176</td>\n",
       "      <td>0.2579</td>\n",
       "      <td>0.0677</td>\n",
       "      <td>0.5759</td>\n",
       "      <td>-1.3379</td>\n",
       "      <td>0.2545</td>\n",
       "    </tr>\n",
       "    <tr>\n",
       "      <th>1</th>\n",
       "      <td>Tenure</td>\n",
       "      <td>C5_Tenure</td>\n",
       "      <td>1</td>\n",
       "      <td>949</td>\n",
       "      <td>391</td>\n",
       "      <td>558</td>\n",
       "      <td>3.0000</td>\n",
       "      <td>12.0000</td>\n",
       "      <td>0.1925</td>\n",
       "      <td>0.3019</td>\n",
       "      <td>0.1535</td>\n",
       "      <td>0.4120</td>\n",
       "      <td>-0.6764</td>\n",
       "      <td>0.1004</td>\n",
       "    </tr>\n",
       "  </tbody>\n",
       "</table>\n",
       "</div>"
      ],
      "text/plain": [
       "      orig_name         grp_name  grp   cnt   bad  good     min     max  \\\n",
       "0  DEC_Contract  C3_DEC_Contract    0  2690  1137  1553 -0.7203 -0.7203   \n",
       "1  DEC_Contract  C3_DEC_Contract    1  1054   127   927  0.9557  0.9557   \n",
       "2  DEC_Contract  C3_DEC_Contract    2  1186    31  1155  2.5858  2.5858   \n",
       "0        Tenure        C5_Tenure    0   580   334   246  0.0000  2.0000   \n",
       "1        Tenure        C5_Tenure    1   949   391   558  3.0000 12.0000   \n",
       "\n",
       "   pct_total  pct_bad  pct_good  target_rate     woe     iv  \n",
       "0     0.5456   0.8780    0.4272       0.4227 -0.7203 0.3247  \n",
       "1     0.2138   0.0981    0.2550       0.1205  0.9557 0.1500  \n",
       "2     0.2406   0.0239    0.3177       0.0261  2.5858 0.7597  \n",
       "0     0.1176   0.2579    0.0677       0.5759 -1.3379 0.2545  \n",
       "1     0.1925   0.3019    0.1535       0.4120 -0.6764 0.1004  "
      ]
     },
     "execution_count": 28,
     "metadata": {},
     "output_type": "execute_result"
    }
   ],
   "source": [
    "coarse_stats.loc[coarse_stats['grp_name'].isin(features_coarse)].head()"
   ]
  },
  {
   "cell_type": "code",
   "execution_count": 29,
   "id": "daa8d2cc",
   "metadata": {},
   "outputs": [
    {
     "data": {
      "text/html": [
       "<div>\n",
       "<style scoped>\n",
       "    .dataframe tbody tr th:only-of-type {\n",
       "        vertical-align: middle;\n",
       "    }\n",
       "\n",
       "    .dataframe tbody tr th {\n",
       "        vertical-align: top;\n",
       "    }\n",
       "\n",
       "    .dataframe thead th {\n",
       "        text-align: right;\n",
       "    }\n",
       "</style>\n",
       "<table border=\"1\" class=\"dataframe\">\n",
       "  <thead>\n",
       "    <tr style=\"text-align: right;\">\n",
       "      <th></th>\n",
       "      <th>variable_name</th>\n",
       "      <th>iv</th>\n",
       "      <th>gini</th>\n",
       "      <th>monotonous_woe</th>\n",
       "    </tr>\n",
       "  </thead>\n",
       "  <tbody>\n",
       "    <tr>\n",
       "      <th>0</th>\n",
       "      <td>C3_DEC_Contract</td>\n",
       "      <td>1.2344</td>\n",
       "      <td>0.4758</td>\n",
       "      <td>1</td>\n",
       "    </tr>\n",
       "    <tr>\n",
       "      <th>1</th>\n",
       "      <td>C5_Tenure</td>\n",
       "      <td>0.7597</td>\n",
       "      <td>0.4531</td>\n",
       "      <td>1</td>\n",
       "    </tr>\n",
       "    <tr>\n",
       "      <th>2</th>\n",
       "      <td>C3_DEC_OnlineSecurity</td>\n",
       "      <td>0.6966</td>\n",
       "      <td>0.4062</td>\n",
       "      <td>1</td>\n",
       "    </tr>\n",
       "    <tr>\n",
       "      <th>3</th>\n",
       "      <td>C3_DEC_TechSupport</td>\n",
       "      <td>0.6538</td>\n",
       "      <td>0.3950</td>\n",
       "      <td>1</td>\n",
       "    </tr>\n",
       "    <tr>\n",
       "      <th>4</th>\n",
       "      <td>C3_DEC_InternetService</td>\n",
       "      <td>0.5899</td>\n",
       "      <td>0.3825</td>\n",
       "      <td>1</td>\n",
       "    </tr>\n",
       "  </tbody>\n",
       "</table>\n",
       "</div>"
      ],
      "text/plain": [
       "            variable_name     iv   gini  monotonous_woe\n",
       "0         C3_DEC_Contract 1.2344 0.4758               1\n",
       "1               C5_Tenure 0.7597 0.4531               1\n",
       "2   C3_DEC_OnlineSecurity 0.6966 0.4062               1\n",
       "3      C3_DEC_TechSupport 0.6538 0.3950               1\n",
       "4  C3_DEC_InternetService 0.5899 0.3825               1"
      ]
     },
     "execution_count": 29,
     "metadata": {},
     "output_type": "execute_result"
    }
   ],
   "source": [
    "coarse_ivgini.loc[coarse_ivgini['variable_name'].isin(features_coarse)].sort_values(by='iv',ascending=False).reset_index(drop=True).head()"
   ]
  },
  {
   "cell_type": "markdown",
   "id": "b1463732",
   "metadata": {},
   "source": [
    "Assign missing values to the most risky category for all variables"
   ]
  },
  {
   "cell_type": "code",
   "execution_count": 30,
   "id": "b5ff8403",
   "metadata": {},
   "outputs": [],
   "source": [
    "miss_dict = {}\n",
    "\n",
    "for var in features_coarse:\n",
    "    \n",
    "    miss_dict[var] = coarse_stats.loc[coarse_stats['grp_name'] == var].sort_values(by='woe',ascending=True).reset_index(drop=True)['grp'][0]"
   ]
  },
  {
   "cell_type": "markdown",
   "id": "34125a29",
   "metadata": {},
   "source": [
    "Create Weight of Evidence-decoded variables on the train sample and transfer them to the test sample"
   ]
  },
  {
   "cell_type": "code",
   "execution_count": 31,
   "id": "e8790be1",
   "metadata": {},
   "outputs": [],
   "source": [
    "%run -i py/woe_decode_transfer_woe.py"
   ]
  },
  {
   "cell_type": "code",
   "execution_count": 32,
   "id": "6d626527",
   "metadata": {},
   "outputs": [
    {
     "data": {
      "text/html": [
       "<div>\n",
       "<style scoped>\n",
       "    .dataframe tbody tr th:only-of-type {\n",
       "        vertical-align: middle;\n",
       "    }\n",
       "\n",
       "    .dataframe tbody tr th {\n",
       "        vertical-align: top;\n",
       "    }\n",
       "\n",
       "    .dataframe thead th {\n",
       "        text-align: right;\n",
       "    }\n",
       "</style>\n",
       "<table border=\"1\" class=\"dataframe\">\n",
       "  <thead>\n",
       "    <tr style=\"text-align: right;\">\n",
       "      <th></th>\n",
       "      <th>W_C5_Tenure</th>\n",
       "      <th>W_C3_DEC_OnlineSecurity</th>\n",
       "      <th>W_C3_DEC_TechSupport</th>\n",
       "      <th>W_C3_DEC_InternetService</th>\n",
       "      <th>W_C3_DEC_OnlineBackup</th>\n",
       "      <th>W_C3_DEC_DeviceProtection</th>\n",
       "      <th>W_C4_DEC_PaymentMethod</th>\n",
       "      <th>W_C3_DEC_StreamingTV</th>\n",
       "      <th>W_C3_DEC_StreamingMovies</th>\n",
       "      <th>W_C3_MonthlyCharges</th>\n",
       "      <th>W_C5_TotalCharges</th>\n",
       "      <th>W_C2_PaperlessBilling</th>\n",
       "      <th>W_C2_Dependents</th>\n",
       "      <th>W_C2_Partner</th>\n",
       "      <th>W_C2_SeniorCitizen</th>\n",
       "    </tr>\n",
       "  </thead>\n",
       "  <tbody>\n",
       "    <tr>\n",
       "      <th>1695</th>\n",
       "      <td>0.5648</td>\n",
       "      <td>-0.6800</td>\n",
       "      <td>0.6497</td>\n",
       "      <td>0.4135</td>\n",
       "      <td>0.2709</td>\n",
       "      <td>-0.5534</td>\n",
       "      <td>-0.8054</td>\n",
       "      <td>-0.1399</td>\n",
       "      <td>-0.3280</td>\n",
       "      <td>-0.3777</td>\n",
       "      <td>0.6548</td>\n",
       "      <td>-0.3369</td>\n",
       "      <td>0.6746</td>\n",
       "      <td>0.3789</td>\n",
       "      <td>0.1561</td>\n",
       "    </tr>\n",
       "    <tr>\n",
       "      <th>1095</th>\n",
       "      <td>-1.3379</td>\n",
       "      <td>-0.6800</td>\n",
       "      <td>-0.6592</td>\n",
       "      <td>-0.6773</td>\n",
       "      <td>-0.6091</td>\n",
       "      <td>-0.5534</td>\n",
       "      <td>-0.8054</td>\n",
       "      <td>-0.1399</td>\n",
       "      <td>-0.3280</td>\n",
       "      <td>-0.3777</td>\n",
       "      <td>-1.0605</td>\n",
       "      <td>-0.3369</td>\n",
       "      <td>-0.2319</td>\n",
       "      <td>-0.3033</td>\n",
       "      <td>0.1561</td>\n",
       "    </tr>\n",
       "    <tr>\n",
       "      <th>3889</th>\n",
       "      <td>0.1332</td>\n",
       "      <td>1.4639</td>\n",
       "      <td>1.4639</td>\n",
       "      <td>1.4639</td>\n",
       "      <td>1.4639</td>\n",
       "      <td>1.4639</td>\n",
       "      <td>0.7007</td>\n",
       "      <td>1.4639</td>\n",
       "      <td>1.4639</td>\n",
       "      <td>1.2583</td>\n",
       "      <td>-0.6249</td>\n",
       "      <td>0.6004</td>\n",
       "      <td>-0.2319</td>\n",
       "      <td>-0.3033</td>\n",
       "      <td>0.1561</td>\n",
       "    </tr>\n",
       "    <tr>\n",
       "      <th>3667</th>\n",
       "      <td>0.1332</td>\n",
       "      <td>-0.6800</td>\n",
       "      <td>-0.6592</td>\n",
       "      <td>-0.6773</td>\n",
       "      <td>-0.6091</td>\n",
       "      <td>0.1959</td>\n",
       "      <td>-0.8054</td>\n",
       "      <td>-0.1399</td>\n",
       "      <td>-0.1786</td>\n",
       "      <td>-0.3777</td>\n",
       "      <td>0.1999</td>\n",
       "      <td>-0.3369</td>\n",
       "      <td>0.6746</td>\n",
       "      <td>0.3789</td>\n",
       "      <td>-0.6895</td>\n",
       "    </tr>\n",
       "    <tr>\n",
       "      <th>2902</th>\n",
       "      <td>-0.6764</td>\n",
       "      <td>0.7367</td>\n",
       "      <td>-0.6592</td>\n",
       "      <td>-0.6773</td>\n",
       "      <td>-0.6091</td>\n",
       "      <td>-0.5534</td>\n",
       "      <td>-0.8054</td>\n",
       "      <td>-0.3620</td>\n",
       "      <td>-0.3280</td>\n",
       "      <td>-0.3777</td>\n",
       "      <td>-0.1222</td>\n",
       "      <td>-0.3369</td>\n",
       "      <td>-0.2319</td>\n",
       "      <td>-0.3033</td>\n",
       "      <td>-0.6895</td>\n",
       "    </tr>\n",
       "  </tbody>\n",
       "</table>\n",
       "</div>"
      ],
      "text/plain": [
       "      W_C5_Tenure  W_C3_DEC_OnlineSecurity  W_C3_DEC_TechSupport  \\\n",
       "1695       0.5648                  -0.6800                0.6497   \n",
       "1095      -1.3379                  -0.6800               -0.6592   \n",
       "3889       0.1332                   1.4639                1.4639   \n",
       "3667       0.1332                  -0.6800               -0.6592   \n",
       "2902      -0.6764                   0.7367               -0.6592   \n",
       "\n",
       "      W_C3_DEC_InternetService  W_C3_DEC_OnlineBackup  \\\n",
       "1695                    0.4135                 0.2709   \n",
       "1095                   -0.6773                -0.6091   \n",
       "3889                    1.4639                 1.4639   \n",
       "3667                   -0.6773                -0.6091   \n",
       "2902                   -0.6773                -0.6091   \n",
       "\n",
       "      W_C3_DEC_DeviceProtection  W_C4_DEC_PaymentMethod  W_C3_DEC_StreamingTV  \\\n",
       "1695                    -0.5534                 -0.8054               -0.1399   \n",
       "1095                    -0.5534                 -0.8054               -0.1399   \n",
       "3889                     1.4639                  0.7007                1.4639   \n",
       "3667                     0.1959                 -0.8054               -0.1399   \n",
       "2902                    -0.5534                 -0.8054               -0.3620   \n",
       "\n",
       "      W_C3_DEC_StreamingMovies  W_C3_MonthlyCharges  W_C5_TotalCharges  \\\n",
       "1695                   -0.3280              -0.3777             0.6548   \n",
       "1095                   -0.3280              -0.3777            -1.0605   \n",
       "3889                    1.4639               1.2583            -0.6249   \n",
       "3667                   -0.1786              -0.3777             0.1999   \n",
       "2902                   -0.3280              -0.3777            -0.1222   \n",
       "\n",
       "      W_C2_PaperlessBilling  W_C2_Dependents  W_C2_Partner  W_C2_SeniorCitizen  \n",
       "1695                -0.3369           0.6746        0.3789              0.1561  \n",
       "1095                -0.3369          -0.2319       -0.3033              0.1561  \n",
       "3889                 0.6004          -0.2319       -0.3033              0.1561  \n",
       "3667                -0.3369           0.6746        0.3789             -0.6895  \n",
       "2902                -0.3369          -0.2319       -0.3033             -0.6895  "
      ]
     },
     "execution_count": 32,
     "metadata": {},
     "output_type": "execute_result"
    }
   ],
   "source": [
    "train_data.iloc[:,-15:].head()"
   ]
  },
  {
   "cell_type": "code",
   "execution_count": 33,
   "id": "6871a4fa",
   "metadata": {},
   "outputs": [
    {
     "data": {
      "text/html": [
       "<div>\n",
       "<style scoped>\n",
       "    .dataframe tbody tr th:only-of-type {\n",
       "        vertical-align: middle;\n",
       "    }\n",
       "\n",
       "    .dataframe tbody tr th {\n",
       "        vertical-align: top;\n",
       "    }\n",
       "\n",
       "    .dataframe thead th {\n",
       "        text-align: right;\n",
       "    }\n",
       "</style>\n",
       "<table border=\"1\" class=\"dataframe\">\n",
       "  <thead>\n",
       "    <tr style=\"text-align: right;\">\n",
       "      <th></th>\n",
       "      <th>C5_Tenure</th>\n",
       "      <th>W_C5_Tenure</th>\n",
       "      <th>C3_DEC_OnlineSecurity</th>\n",
       "      <th>W_C3_DEC_OnlineSecurity</th>\n",
       "      <th>C3_DEC_TechSupport</th>\n",
       "      <th>W_C3_DEC_TechSupport</th>\n",
       "      <th>C3_DEC_InternetService</th>\n",
       "      <th>W_C3_DEC_InternetService</th>\n",
       "      <th>C3_DEC_OnlineBackup</th>\n",
       "      <th>W_C3_DEC_OnlineBackup</th>\n",
       "      <th>...</th>\n",
       "      <th>C5_TotalCharges</th>\n",
       "      <th>W_C5_TotalCharges</th>\n",
       "      <th>C2_PaperlessBilling</th>\n",
       "      <th>W_C2_PaperlessBilling</th>\n",
       "      <th>C2_Dependents</th>\n",
       "      <th>W_C2_Dependents</th>\n",
       "      <th>C2_Partner</th>\n",
       "      <th>W_C2_Partner</th>\n",
       "      <th>C2_SeniorCitizen</th>\n",
       "      <th>W_C2_SeniorCitizen</th>\n",
       "    </tr>\n",
       "  </thead>\n",
       "  <tbody>\n",
       "    <tr>\n",
       "      <th>185</th>\n",
       "      <td>0</td>\n",
       "      <td>-1.3379</td>\n",
       "      <td>0</td>\n",
       "      <td>-0.6800</td>\n",
       "      <td>0</td>\n",
       "      <td>-0.6592</td>\n",
       "      <td>1</td>\n",
       "      <td>0.4135</td>\n",
       "      <td>0</td>\n",
       "      <td>-0.6091</td>\n",
       "      <td>...</td>\n",
       "      <td>0</td>\n",
       "      <td>-1.0605</td>\n",
       "      <td>1</td>\n",
       "      <td>-0.3369</td>\n",
       "      <td>0</td>\n",
       "      <td>-0.2319</td>\n",
       "      <td>1</td>\n",
       "      <td>0.3789</td>\n",
       "      <td>0</td>\n",
       "      <td>0.1561</td>\n",
       "    </tr>\n",
       "    <tr>\n",
       "      <th>2715</th>\n",
       "      <td>3</td>\n",
       "      <td>0.5648</td>\n",
       "      <td>2</td>\n",
       "      <td>1.4639</td>\n",
       "      <td>2</td>\n",
       "      <td>1.4639</td>\n",
       "      <td>2</td>\n",
       "      <td>1.4639</td>\n",
       "      <td>2</td>\n",
       "      <td>1.4639</td>\n",
       "      <td>...</td>\n",
       "      <td>3</td>\n",
       "      <td>0.1999</td>\n",
       "      <td>1</td>\n",
       "      <td>-0.3369</td>\n",
       "      <td>0</td>\n",
       "      <td>-0.2319</td>\n",
       "      <td>0</td>\n",
       "      <td>-0.3033</td>\n",
       "      <td>0</td>\n",
       "      <td>0.1561</td>\n",
       "    </tr>\n",
       "    <tr>\n",
       "      <th>3825</th>\n",
       "      <td>3</td>\n",
       "      <td>0.5648</td>\n",
       "      <td>2</td>\n",
       "      <td>1.4639</td>\n",
       "      <td>2</td>\n",
       "      <td>1.4639</td>\n",
       "      <td>2</td>\n",
       "      <td>1.4639</td>\n",
       "      <td>2</td>\n",
       "      <td>1.4639</td>\n",
       "      <td>...</td>\n",
       "      <td>3</td>\n",
       "      <td>0.1999</td>\n",
       "      <td>0</td>\n",
       "      <td>0.6004</td>\n",
       "      <td>1</td>\n",
       "      <td>0.6746</td>\n",
       "      <td>1</td>\n",
       "      <td>0.3789</td>\n",
       "      <td>0</td>\n",
       "      <td>0.1561</td>\n",
       "    </tr>\n",
       "    <tr>\n",
       "      <th>1807</th>\n",
       "      <td>0</td>\n",
       "      <td>-1.3379</td>\n",
       "      <td>0</td>\n",
       "      <td>-0.6800</td>\n",
       "      <td>0</td>\n",
       "      <td>-0.6592</td>\n",
       "      <td>0</td>\n",
       "      <td>-0.6773</td>\n",
       "      <td>0</td>\n",
       "      <td>-0.6091</td>\n",
       "      <td>...</td>\n",
       "      <td>0</td>\n",
       "      <td>-1.0605</td>\n",
       "      <td>0</td>\n",
       "      <td>0.6004</td>\n",
       "      <td>0</td>\n",
       "      <td>-0.2319</td>\n",
       "      <td>0</td>\n",
       "      <td>-0.3033</td>\n",
       "      <td>0</td>\n",
       "      <td>0.1561</td>\n",
       "    </tr>\n",
       "    <tr>\n",
       "      <th>132</th>\n",
       "      <td>4</td>\n",
       "      <td>1.6814</td>\n",
       "      <td>0</td>\n",
       "      <td>-0.6800</td>\n",
       "      <td>1</td>\n",
       "      <td>0.6497</td>\n",
       "      <td>1</td>\n",
       "      <td>0.4135</td>\n",
       "      <td>0</td>\n",
       "      <td>-0.6091</td>\n",
       "      <td>...</td>\n",
       "      <td>4</td>\n",
       "      <td>0.6548</td>\n",
       "      <td>0</td>\n",
       "      <td>0.6004</td>\n",
       "      <td>0</td>\n",
       "      <td>-0.2319</td>\n",
       "      <td>0</td>\n",
       "      <td>-0.3033</td>\n",
       "      <td>0</td>\n",
       "      <td>0.1561</td>\n",
       "    </tr>\n",
       "  </tbody>\n",
       "</table>\n",
       "<p>5 rows × 30 columns</p>\n",
       "</div>"
      ],
      "text/plain": [
       "     C5_Tenure  W_C5_Tenure C3_DEC_OnlineSecurity  W_C3_DEC_OnlineSecurity  \\\n",
       "185          0      -1.3379                     0                  -0.6800   \n",
       "2715         3       0.5648                     2                   1.4639   \n",
       "3825         3       0.5648                     2                   1.4639   \n",
       "1807         0      -1.3379                     0                  -0.6800   \n",
       "132          4       1.6814                     0                  -0.6800   \n",
       "\n",
       "     C3_DEC_TechSupport  W_C3_DEC_TechSupport C3_DEC_InternetService  \\\n",
       "185                   0               -0.6592                      1   \n",
       "2715                  2                1.4639                      2   \n",
       "3825                  2                1.4639                      2   \n",
       "1807                  0               -0.6592                      0   \n",
       "132                   1                0.6497                      1   \n",
       "\n",
       "      W_C3_DEC_InternetService C3_DEC_OnlineBackup  W_C3_DEC_OnlineBackup  \\\n",
       "185                     0.4135                   0                -0.6091   \n",
       "2715                    1.4639                   2                 1.4639   \n",
       "3825                    1.4639                   2                 1.4639   \n",
       "1807                   -0.6773                   0                -0.6091   \n",
       "132                     0.4135                   0                -0.6091   \n",
       "\n",
       "      ... C5_TotalCharges  W_C5_TotalCharges C2_PaperlessBilling  \\\n",
       "185   ...               0            -1.0605                   1   \n",
       "2715  ...               3             0.1999                   1   \n",
       "3825  ...               3             0.1999                   0   \n",
       "1807  ...               0            -1.0605                   0   \n",
       "132   ...               4             0.6548                   0   \n",
       "\n",
       "      W_C2_PaperlessBilling C2_Dependents  W_C2_Dependents C2_Partner  \\\n",
       "185                 -0.3369             0          -0.2319          1   \n",
       "2715                -0.3369             0          -0.2319          0   \n",
       "3825                 0.6004             1           0.6746          1   \n",
       "1807                 0.6004             0          -0.2319          0   \n",
       "132                  0.6004             0          -0.2319          0   \n",
       "\n",
       "      W_C2_Partner C2_SeniorCitizen  W_C2_SeniorCitizen  \n",
       "185         0.3789                0              0.1561  \n",
       "2715       -0.3033                0              0.1561  \n",
       "3825        0.3789                0              0.1561  \n",
       "1807       -0.3033                0              0.1561  \n",
       "132        -0.3033                0              0.1561  \n",
       "\n",
       "[5 rows x 30 columns]"
      ]
     },
     "execution_count": 33,
     "metadata": {},
     "output_type": "execute_result"
    }
   ],
   "source": [
    "test_data.iloc[:,-30:].head()"
   ]
  },
  {
   "cell_type": "markdown",
   "id": "f14fd212",
   "metadata": {},
   "source": [
    "#### II. Create dummy variables"
   ]
  },
  {
   "cell_type": "code",
   "execution_count": 34,
   "id": "af84f0df",
   "metadata": {},
   "outputs": [],
   "source": [
    "train_data = train_data.join(pd.get_dummies(train_data[features_cat], drop_first=True))\n",
    "test_data = test_data.join(pd.get_dummies(test_data[features_cat], drop_first=True))"
   ]
  },
  {
   "cell_type": "code",
   "execution_count": 35,
   "id": "f813e63b",
   "metadata": {},
   "outputs": [
    {
     "data": {
      "text/html": [
       "<div>\n",
       "<style scoped>\n",
       "    .dataframe tbody tr th:only-of-type {\n",
       "        vertical-align: middle;\n",
       "    }\n",
       "\n",
       "    .dataframe tbody tr th {\n",
       "        vertical-align: top;\n",
       "    }\n",
       "\n",
       "    .dataframe thead th {\n",
       "        text-align: right;\n",
       "    }\n",
       "</style>\n",
       "<table border=\"1\" class=\"dataframe\">\n",
       "  <thead>\n",
       "    <tr style=\"text-align: right;\">\n",
       "      <th></th>\n",
       "      <th>Gender_Male</th>\n",
       "      <th>MultipleLines_NoPhoneService</th>\n",
       "      <th>MultipleLines_Yes</th>\n",
       "      <th>InternetService_FiberOptic</th>\n",
       "      <th>InternetService_No</th>\n",
       "      <th>OnlineSecurity_NoInternetService</th>\n",
       "      <th>OnlineSecurity_Yes</th>\n",
       "      <th>OnlineBackup_NoInternetService</th>\n",
       "      <th>OnlineBackup_Yes</th>\n",
       "      <th>DeviceProtection_NoInternetService</th>\n",
       "      <th>...</th>\n",
       "      <th>TechSupport_Yes</th>\n",
       "      <th>StreamingTV_NoInternetService</th>\n",
       "      <th>StreamingTV_Yes</th>\n",
       "      <th>StreamingMovies_NoInternetService</th>\n",
       "      <th>StreamingMovies_Yes</th>\n",
       "      <th>Contract_OneYear</th>\n",
       "      <th>Contract_TwoYear</th>\n",
       "      <th>PaymentMethod_CreditCard</th>\n",
       "      <th>PaymentMethod_ElectronicCheck</th>\n",
       "      <th>PaymentMethod_MailedCheck</th>\n",
       "    </tr>\n",
       "  </thead>\n",
       "  <tbody>\n",
       "    <tr>\n",
       "      <th>1695</th>\n",
       "      <td>1</td>\n",
       "      <td>0</td>\n",
       "      <td>1</td>\n",
       "      <td>0</td>\n",
       "      <td>0</td>\n",
       "      <td>0</td>\n",
       "      <td>0</td>\n",
       "      <td>0</td>\n",
       "      <td>1</td>\n",
       "      <td>0</td>\n",
       "      <td>...</td>\n",
       "      <td>1</td>\n",
       "      <td>0</td>\n",
       "      <td>1</td>\n",
       "      <td>0</td>\n",
       "      <td>0</td>\n",
       "      <td>1</td>\n",
       "      <td>0</td>\n",
       "      <td>0</td>\n",
       "      <td>1</td>\n",
       "      <td>0</td>\n",
       "    </tr>\n",
       "    <tr>\n",
       "      <th>1095</th>\n",
       "      <td>1</td>\n",
       "      <td>0</td>\n",
       "      <td>0</td>\n",
       "      <td>1</td>\n",
       "      <td>0</td>\n",
       "      <td>0</td>\n",
       "      <td>0</td>\n",
       "      <td>0</td>\n",
       "      <td>0</td>\n",
       "      <td>0</td>\n",
       "      <td>...</td>\n",
       "      <td>0</td>\n",
       "      <td>0</td>\n",
       "      <td>1</td>\n",
       "      <td>0</td>\n",
       "      <td>0</td>\n",
       "      <td>0</td>\n",
       "      <td>0</td>\n",
       "      <td>0</td>\n",
       "      <td>1</td>\n",
       "      <td>0</td>\n",
       "    </tr>\n",
       "    <tr>\n",
       "      <th>3889</th>\n",
       "      <td>1</td>\n",
       "      <td>0</td>\n",
       "      <td>0</td>\n",
       "      <td>0</td>\n",
       "      <td>1</td>\n",
       "      <td>1</td>\n",
       "      <td>0</td>\n",
       "      <td>1</td>\n",
       "      <td>0</td>\n",
       "      <td>1</td>\n",
       "      <td>...</td>\n",
       "      <td>0</td>\n",
       "      <td>1</td>\n",
       "      <td>0</td>\n",
       "      <td>1</td>\n",
       "      <td>0</td>\n",
       "      <td>1</td>\n",
       "      <td>0</td>\n",
       "      <td>1</td>\n",
       "      <td>0</td>\n",
       "      <td>0</td>\n",
       "    </tr>\n",
       "    <tr>\n",
       "      <th>3667</th>\n",
       "      <td>0</td>\n",
       "      <td>0</td>\n",
       "      <td>0</td>\n",
       "      <td>1</td>\n",
       "      <td>0</td>\n",
       "      <td>0</td>\n",
       "      <td>0</td>\n",
       "      <td>0</td>\n",
       "      <td>0</td>\n",
       "      <td>0</td>\n",
       "      <td>...</td>\n",
       "      <td>0</td>\n",
       "      <td>0</td>\n",
       "      <td>1</td>\n",
       "      <td>0</td>\n",
       "      <td>1</td>\n",
       "      <td>0</td>\n",
       "      <td>1</td>\n",
       "      <td>0</td>\n",
       "      <td>1</td>\n",
       "      <td>0</td>\n",
       "    </tr>\n",
       "    <tr>\n",
       "      <th>2902</th>\n",
       "      <td>0</td>\n",
       "      <td>0</td>\n",
       "      <td>0</td>\n",
       "      <td>1</td>\n",
       "      <td>0</td>\n",
       "      <td>0</td>\n",
       "      <td>1</td>\n",
       "      <td>0</td>\n",
       "      <td>0</td>\n",
       "      <td>0</td>\n",
       "      <td>...</td>\n",
       "      <td>0</td>\n",
       "      <td>0</td>\n",
       "      <td>0</td>\n",
       "      <td>0</td>\n",
       "      <td>0</td>\n",
       "      <td>0</td>\n",
       "      <td>0</td>\n",
       "      <td>0</td>\n",
       "      <td>1</td>\n",
       "      <td>0</td>\n",
       "    </tr>\n",
       "  </tbody>\n",
       "</table>\n",
       "<p>5 rows × 22 columns</p>\n",
       "</div>"
      ],
      "text/plain": [
       "      Gender_Male  MultipleLines_NoPhoneService  MultipleLines_Yes  \\\n",
       "1695            1                             0                  1   \n",
       "1095            1                             0                  0   \n",
       "3889            1                             0                  0   \n",
       "3667            0                             0                  0   \n",
       "2902            0                             0                  0   \n",
       "\n",
       "      InternetService_FiberOptic  InternetService_No  \\\n",
       "1695                           0                   0   \n",
       "1095                           1                   0   \n",
       "3889                           0                   1   \n",
       "3667                           1                   0   \n",
       "2902                           1                   0   \n",
       "\n",
       "      OnlineSecurity_NoInternetService  OnlineSecurity_Yes  \\\n",
       "1695                                 0                   0   \n",
       "1095                                 0                   0   \n",
       "3889                                 1                   0   \n",
       "3667                                 0                   0   \n",
       "2902                                 0                   1   \n",
       "\n",
       "      OnlineBackup_NoInternetService  OnlineBackup_Yes  \\\n",
       "1695                               0                 1   \n",
       "1095                               0                 0   \n",
       "3889                               1                 0   \n",
       "3667                               0                 0   \n",
       "2902                               0                 0   \n",
       "\n",
       "      DeviceProtection_NoInternetService  ...  TechSupport_Yes  \\\n",
       "1695                                   0  ...                1   \n",
       "1095                                   0  ...                0   \n",
       "3889                                   1  ...                0   \n",
       "3667                                   0  ...                0   \n",
       "2902                                   0  ...                0   \n",
       "\n",
       "      StreamingTV_NoInternetService  StreamingTV_Yes  \\\n",
       "1695                              0                1   \n",
       "1095                              0                1   \n",
       "3889                              1                0   \n",
       "3667                              0                1   \n",
       "2902                              0                0   \n",
       "\n",
       "      StreamingMovies_NoInternetService  StreamingMovies_Yes  \\\n",
       "1695                                  0                    0   \n",
       "1095                                  0                    0   \n",
       "3889                                  1                    0   \n",
       "3667                                  0                    1   \n",
       "2902                                  0                    0   \n",
       "\n",
       "      Contract_OneYear  Contract_TwoYear  PaymentMethod_CreditCard  \\\n",
       "1695                 1                 0                         0   \n",
       "1095                 0                 0                         0   \n",
       "3889                 1                 0                         1   \n",
       "3667                 0                 1                         0   \n",
       "2902                 0                 0                         0   \n",
       "\n",
       "      PaymentMethod_ElectronicCheck  PaymentMethod_MailedCheck  \n",
       "1695                              1                          0  \n",
       "1095                              1                          0  \n",
       "3889                              0                          0  \n",
       "3667                              1                          0  \n",
       "2902                              1                          0  \n",
       "\n",
       "[5 rows x 22 columns]"
      ]
     },
     "execution_count": 35,
     "metadata": {},
     "output_type": "execute_result"
    }
   ],
   "source": [
    "train_data.iloc[:,-22:].head()"
   ]
  },
  {
   "cell_type": "code",
   "execution_count": 36,
   "id": "00271bd8",
   "metadata": {},
   "outputs": [],
   "source": [
    "features_dummy = train_data.columns[-22:].tolist()"
   ]
  },
  {
   "cell_type": "code",
   "execution_count": 37,
   "id": "74025b94",
   "metadata": {},
   "outputs": [],
   "source": [
    "features_cont = ['Tenure','TotalCharges','MonthlyCharges']"
   ]
  },
  {
   "cell_type": "markdown",
   "id": "475209f5",
   "metadata": {},
   "source": [
    "### Feature selection"
   ]
  },
  {
   "cell_type": "markdown",
   "id": "9f237636",
   "metadata": {},
   "source": [
    "#### Correlation analysis of WoE-transformed variables"
   ]
  },
  {
   "cell_type": "code",
   "execution_count": 38,
   "id": "e0573cea",
   "metadata": {},
   "outputs": [],
   "source": [
    "%run -i py/correlation_analysis.py"
   ]
  },
  {
   "cell_type": "markdown",
   "id": "03237ef8",
   "metadata": {},
   "source": [
    "Correlation matrix with the variables in descending order based on Information Value"
   ]
  },
  {
   "cell_type": "code",
   "execution_count": 39,
   "id": "7b24ca66",
   "metadata": {
    "scrolled": false
   },
   "outputs": [
    {
     "data": {
      "image/png": "[encoded data removed]",
      "text/plain": [
       "<Figure size 864x432 with 2 Axes>"
      ]
     },
     "metadata": {},
     "output_type": "display_data"
    }
   ],
   "source": [
    "corr_plot(train_data, ['W_'+x for x in features_coarse], method='spearman')"
   ]
  },
  {
   "cell_type": "markdown",
   "id": "c6622e31",
   "metadata": {},
   "source": [
    "Filter out those variables from highly correlated pairs (higher than 0.5) who have lower Information Value"
   ]
  },
  {
   "cell_type": "markdown",
   "id": "5c3f6067",
   "metadata": {},
   "source": [
    "- Train sample"
   ]
  },
  {
   "cell_type": "code",
   "execution_count": 40,
   "id": "4ca6aec8",
   "metadata": {},
   "outputs": [
    {
     "data": {
      "image/png": "[encoded data removed]",
      "text/plain": [
       "<Figure size 864x432 with 2 Axes>"
      ]
     },
     "metadata": {},
     "output_type": "display_data"
    }
   ],
   "source": [
    "features_woe_corr = filter_by_corr(train_data, ['W_'+x for x in features_coarse], 'spearman')\n",
    "corr_plot(train_data, features_woe_corr, method='spearman')"
   ]
  },
  {
   "cell_type": "markdown",
   "id": "495a89cc",
   "metadata": {},
   "source": [
    "- Test sample"
   ]
  },
  {
   "cell_type": "code",
   "execution_count": 41,
   "id": "2b0d4b28",
   "metadata": {},
   "outputs": [
    {
     "data": {
      "image/png": "[encoded data removed]",
      "text/plain": [
       "<Figure size 864x432 with 2 Axes>"
      ]
     },
     "metadata": {},
     "output_type": "display_data"
    }
   ],
   "source": [
    "corr_plot(test_data, features_woe_corr, method='spearman')"
   ]
  },
  {
   "cell_type": "markdown",
   "id": "70409e5a",
   "metadata": {},
   "source": [
    "#### Correlation analysis of continuous and dummy variables"
   ]
  },
  {
   "cell_type": "markdown",
   "id": "575f97ad",
   "metadata": {},
   "source": [
    "Variable in descending order by their correlation with the target variable"
   ]
  },
  {
   "cell_type": "code",
   "execution_count": 42,
   "id": "9ee769be",
   "metadata": {},
   "outputs": [
    {
     "data": {
      "text/html": [
       "<div>\n",
       "<style scoped>\n",
       "    .dataframe tbody tr th:only-of-type {\n",
       "        vertical-align: middle;\n",
       "    }\n",
       "\n",
       "    .dataframe tbody tr th {\n",
       "        vertical-align: top;\n",
       "    }\n",
       "\n",
       "    .dataframe thead th {\n",
       "        text-align: right;\n",
       "    }\n",
       "</style>\n",
       "<table border=\"1\" class=\"dataframe\">\n",
       "  <thead>\n",
       "    <tr style=\"text-align: right;\">\n",
       "      <th></th>\n",
       "      <th>CorrelationWithChurn</th>\n",
       "    </tr>\n",
       "  </thead>\n",
       "  <tbody>\n",
       "    <tr>\n",
       "      <th>Tenure</th>\n",
       "      <td>0.3449</td>\n",
       "    </tr>\n",
       "    <tr>\n",
       "      <th>Contract_TwoYear</th>\n",
       "      <td>0.3025</td>\n",
       "    </tr>\n",
       "    <tr>\n",
       "      <th>InternetService_FiberOptic</th>\n",
       "      <td>0.3000</td>\n",
       "    </tr>\n",
       "    <tr>\n",
       "      <th>PaymentMethod_ElectronicCheck</th>\n",
       "      <td>0.2937</td>\n",
       "    </tr>\n",
       "    <tr>\n",
       "      <th>StreamingMovies_NoInternetService</th>\n",
       "      <td>0.2241</td>\n",
       "    </tr>\n",
       "    <tr>\n",
       "      <th>InternetService_No</th>\n",
       "      <td>0.2241</td>\n",
       "    </tr>\n",
       "    <tr>\n",
       "      <th>OnlineSecurity_NoInternetService</th>\n",
       "      <td>0.2241</td>\n",
       "    </tr>\n",
       "    <tr>\n",
       "      <th>OnlineBackup_NoInternetService</th>\n",
       "      <td>0.2241</td>\n",
       "    </tr>\n",
       "    <tr>\n",
       "      <th>DeviceProtection_NoInternetService</th>\n",
       "      <td>0.2241</td>\n",
       "    </tr>\n",
       "    <tr>\n",
       "      <th>TechSupport_NoInternetService</th>\n",
       "      <td>0.2241</td>\n",
       "    </tr>\n",
       "    <tr>\n",
       "      <th>StreamingTV_NoInternetService</th>\n",
       "      <td>0.2241</td>\n",
       "    </tr>\n",
       "    <tr>\n",
       "      <th>TotalCharges</th>\n",
       "      <td>0.1938</td>\n",
       "    </tr>\n",
       "    <tr>\n",
       "      <th>MonthlyCharges</th>\n",
       "      <td>0.1884</td>\n",
       "    </tr>\n",
       "    <tr>\n",
       "      <th>OnlineSecurity_Yes</th>\n",
       "      <td>0.1686</td>\n",
       "    </tr>\n",
       "    <tr>\n",
       "      <th>Contract_OneYear</th>\n",
       "      <td>0.1685</td>\n",
       "    </tr>\n",
       "    <tr>\n",
       "      <th>TechSupport_Yes</th>\n",
       "      <td>0.1535</td>\n",
       "    </tr>\n",
       "    <tr>\n",
       "      <th>PaymentMethod_CreditCard</th>\n",
       "      <td>0.1341</td>\n",
       "    </tr>\n",
       "    <tr>\n",
       "      <th>PaymentMethod_MailedCheck</th>\n",
       "      <td>0.0908</td>\n",
       "    </tr>\n",
       "    <tr>\n",
       "      <th>OnlineBackup_Yes</th>\n",
       "      <td>0.0813</td>\n",
       "    </tr>\n",
       "    <tr>\n",
       "      <th>StreamingMovies_Yes</th>\n",
       "      <td>0.0655</td>\n",
       "    </tr>\n",
       "    <tr>\n",
       "      <th>DeviceProtection_Yes</th>\n",
       "      <td>0.0589</td>\n",
       "    </tr>\n",
       "    <tr>\n",
       "      <th>StreamingTV_Yes</th>\n",
       "      <td>0.0505</td>\n",
       "    </tr>\n",
       "    <tr>\n",
       "      <th>MultipleLines_Yes</th>\n",
       "      <td>0.0300</td>\n",
       "    </tr>\n",
       "    <tr>\n",
       "      <th>Gender_Male</th>\n",
       "      <td>0.0162</td>\n",
       "    </tr>\n",
       "    <tr>\n",
       "      <th>MultipleLines_NoPhoneService</th>\n",
       "      <td>0.0152</td>\n",
       "    </tr>\n",
       "  </tbody>\n",
       "</table>\n",
       "</div>"
      ],
      "text/plain": [
       "                                    CorrelationWithChurn\n",
       "Tenure                                            0.3449\n",
       "Contract_TwoYear                                  0.3025\n",
       "InternetService_FiberOptic                        0.3000\n",
       "PaymentMethod_ElectronicCheck                     0.2937\n",
       "StreamingMovies_NoInternetService                 0.2241\n",
       "InternetService_No                                0.2241\n",
       "OnlineSecurity_NoInternetService                  0.2241\n",
       "OnlineBackup_NoInternetService                    0.2241\n",
       "DeviceProtection_NoInternetService                0.2241\n",
       "TechSupport_NoInternetService                     0.2241\n",
       "StreamingTV_NoInternetService                     0.2241\n",
       "TotalCharges                                      0.1938\n",
       "MonthlyCharges                                    0.1884\n",
       "OnlineSecurity_Yes                                0.1686\n",
       "Contract_OneYear                                  0.1685\n",
       "TechSupport_Yes                                   0.1535\n",
       "PaymentMethod_CreditCard                          0.1341\n",
       "PaymentMethod_MailedCheck                         0.0908\n",
       "OnlineBackup_Yes                                  0.0813\n",
       "StreamingMovies_Yes                               0.0655\n",
       "DeviceProtection_Yes                              0.0589\n",
       "StreamingTV_Yes                                   0.0505\n",
       "MultipleLines_Yes                                 0.0300\n",
       "Gender_Male                                       0.0162\n",
       "MultipleLines_NoPhoneService                      0.0152"
      ]
     },
     "execution_count": 42,
     "metadata": {},
     "output_type": "execute_result"
    }
   ],
   "source": [
    "pd.DataFrame(abs(train_data[['Churn']+features_dummy+features_cont].corr(method='pearson').iloc[1:,0]).sort_values(ascending=False)).rename(columns=({'Churn': 'CorrelationWithChurn'}))"
   ]
  },
  {
   "cell_type": "code",
   "execution_count": 43,
   "id": "87c6f1a3",
   "metadata": {},
   "outputs": [],
   "source": [
    "features_corr_sorted = abs(train_data[['Churn']+features_dummy+features_cont].corr(method='pearson').iloc[1:,0]).sort_values(ascending=False).index.tolist()"
   ]
  },
  {
   "cell_type": "code",
   "execution_count": 44,
   "id": "b14d9ccf",
   "metadata": {},
   "outputs": [],
   "source": [
    "features_corr_filt = filter_by_corr(train_data, features_corr_sorted, 'pearson')"
   ]
  },
  {
   "cell_type": "markdown",
   "id": "bf4021cb",
   "metadata": {},
   "source": [
    "Filter out those variables from highly correlated pairs (higher than 0.5) who are less correlated with 'Churn'"
   ]
  },
  {
   "cell_type": "markdown",
   "id": "6fa85620",
   "metadata": {},
   "source": [
    "- Train sample"
   ]
  },
  {
   "cell_type": "code",
   "execution_count": 45,
   "id": "57d35f7c",
   "metadata": {},
   "outputs": [
    {
     "data": {
      "image/png": "[encoded data removed]",
      "text/plain": [
       "<Figure size 864x432 with 2 Axes>"
      ]
     },
     "metadata": {},
     "output_type": "display_data"
    }
   ],
   "source": [
    "corr_plot(train_data, features_corr_filt, method='pearson')"
   ]
  },
  {
   "cell_type": "markdown",
   "id": "59bbc039",
   "metadata": {},
   "source": [
    "- Test sample"
   ]
  },
  {
   "cell_type": "code",
   "execution_count": 46,
   "id": "dbaba676",
   "metadata": {},
   "outputs": [
    {
     "data": {
      "image/png": "[encoded data removed]",
      "text/plain": [
       "<Figure size 864x432 with 2 Axes>"
      ]
     },
     "metadata": {},
     "output_type": "display_data"
    }
   ],
   "source": [
    "corr_plot(test_data, features_corr_filt, method='pearson')"
   ]
  },
  {
   "cell_type": "markdown",
   "id": "ab9ff351",
   "metadata": {},
   "source": [
    "### Model building"
   ]
  },
  {
   "cell_type": "markdown",
   "id": "b0e24617",
   "metadata": {},
   "source": [
    "**Logistic regression** from Weight of Evidence-transformed variables"
   ]
  },
  {
   "cell_type": "code",
   "execution_count": 47,
   "id": "fe2ae607",
   "metadata": {},
   "outputs": [],
   "source": [
    "%run -i py/stepwise_selection.py"
   ]
  },
  {
   "cell_type": "markdown",
   "id": "187a62c9",
   "metadata": {},
   "source": [
    "- Stepwise variable selection for the model"
   ]
  },
  {
   "cell_type": "code",
   "execution_count": 48,
   "id": "2c5295ab",
   "metadata": {},
   "outputs": [],
   "source": [
    "features_stepwise_v1 = stepwise_selection(train_data[features_woe_corr], train_data['Churn'])\n",
    "\n",
    "from sklearn.linear_model import LogisticRegression\n",
    "\n",
    "logreg = LogisticRegression().fit(train_data[features_stepwise_v1], train_data['Churn'])"
   ]
  },
  {
   "cell_type": "markdown",
   "id": "3de1540a",
   "metadata": {},
   "source": [
    "**Logistic regression** from dummy and raw continuous variables"
   ]
  },
  {
   "cell_type": "markdown",
   "id": "16c32230",
   "metadata": {},
   "source": [
    "- Stepwise variable selection for the model"
   ]
  },
  {
   "cell_type": "code",
   "execution_count": 49,
   "id": "a6eba881",
   "metadata": {},
   "outputs": [],
   "source": [
    "features_stepwise_v2 = stepwise_selection(train_data[features_corr_filt], train_data['Churn'])\n",
    "\n",
    "logreg_v2 = LogisticRegression().fit(train_data[features_stepwise_v2], train_data['Churn'])"
   ]
  },
  {
   "cell_type": "markdown",
   "id": "d02c03cd",
   "metadata": {},
   "source": [
    "#### Naive Bayes"
   ]
  },
  {
   "cell_type": "code",
   "execution_count": 50,
   "id": "62a30124",
   "metadata": {},
   "outputs": [],
   "source": [
    "from sklearn.naive_bayes import GaussianNB"
   ]
  },
  {
   "cell_type": "code",
   "execution_count": 51,
   "id": "814c56ff",
   "metadata": {},
   "outputs": [],
   "source": [
    "naive = GaussianNB().fit(train_data[features_corr_filt], train_data['Churn'])"
   ]
  },
  {
   "cell_type": "markdown",
   "id": "599b4d98",
   "metadata": {},
   "source": [
    "Standardize all features to a common scale in order for the algorithms to give equal weights in distance calculations"
   ]
  },
  {
   "cell_type": "code",
   "execution_count": 52,
   "id": "358da940",
   "metadata": {},
   "outputs": [
    {
     "data": {
      "text/plain": [
       "StandardScaler()"
      ]
     },
     "execution_count": 52,
     "metadata": {},
     "output_type": "execute_result"
    }
   ],
   "source": [
    "from sklearn.preprocessing import StandardScaler\n",
    "\n",
    "scaler = StandardScaler()\n",
    "scaler.fit(train_data[features_corr_filt])"
   ]
  },
  {
   "cell_type": "code",
   "execution_count": 53,
   "id": "ab3554f1",
   "metadata": {},
   "outputs": [],
   "source": [
    "train_data = train_data.join(pd.DataFrame(scaler.transform(train_data[features_corr_filt]), index=train_data.index, columns=['Scaled_'+f for f in features_corr_filt]))\n",
    "test_data = test_data.join(pd.DataFrame(scaler.transform(test_data[features_corr_filt]), index=test_data.index, columns=['Scaled_'+f for f in features_corr_filt]))"
   ]
  },
  {
   "cell_type": "markdown",
   "id": "e710b44b",
   "metadata": {},
   "source": [
    "#### Support Vector Classification"
   ]
  },
  {
   "cell_type": "code",
   "execution_count": 54,
   "id": "9f69d01b",
   "metadata": {},
   "outputs": [],
   "source": [
    "from sklearn.svm import SVC"
   ]
  },
  {
   "cell_type": "code",
   "execution_count": 55,
   "id": "18b50c9f",
   "metadata": {},
   "outputs": [],
   "source": [
    "svc = SVC(probability=True).fit(train_data[['Scaled_'+f for f in features_corr_filt]], train_data['Churn'])"
   ]
  },
  {
   "cell_type": "markdown",
   "id": "56dbaee8",
   "metadata": {},
   "source": [
    "#### K Nearest Neighbors"
   ]
  },
  {
   "cell_type": "code",
   "execution_count": 56,
   "id": "c30f5fe5",
   "metadata": {},
   "outputs": [],
   "source": [
    "from sklearn.neighbors import KNeighborsClassifier"
   ]
  },
  {
   "cell_type": "code",
   "execution_count": 57,
   "id": "5d0d5e26",
   "metadata": {},
   "outputs": [],
   "source": [
    "from sklearn.model_selection import cross_val_score\n",
    "from sklearn.model_selection import KFold\n",
    "from sklearn.model_selection import GridSearchCV\n",
    "from sklearn.metrics import f1_score"
   ]
  },
  {
   "cell_type": "markdown",
   "id": "2f36f4f3",
   "metadata": {},
   "source": [
    "Using cross validation with weighted F1-scoring to find the best hyperparameters"
   ]
  },
  {
   "cell_type": "code",
   "execution_count": 58,
   "id": "68647fc4",
   "metadata": {},
   "outputs": [],
   "source": [
    "def weighted_f1_scorer(model, X, y):\n",
    "    \n",
    "    scores = [f1_score(y,\n",
    "                       model.predict_proba(X)[:,1] >= t,\n",
    "                       average='weighted') for t in np.arange(0,1.05,0.05)]\n",
    "    \n",
    "    threshold = np.arange(0,1.05,0.05)[np.argmax(scores)]\n",
    "    \n",
    "    f = f1_score(y, np.where(model.predict_proba(X)[:,1] >= threshold, 1, 0), average='weighted')\n",
    "\n",
    "    return f"
   ]
  },
  {
   "cell_type": "code",
   "execution_count": 59,
   "id": "75c93894",
   "metadata": {},
   "outputs": [],
   "source": [
    "cv = KFold(n_splits=5, random_state=523, shuffle=True)"
   ]
  },
  {
   "cell_type": "code",
   "execution_count": 60,
   "id": "803635c5",
   "metadata": {},
   "outputs": [],
   "source": [
    "params = {'n_neighbors': np.arange(1,11).tolist()}"
   ]
  },
  {
   "cell_type": "code",
   "execution_count": 61,
   "id": "eb50aa74",
   "metadata": {},
   "outputs": [
    {
     "data": {
      "text/plain": [
       "{'n_neighbors': 10}"
      ]
     },
     "execution_count": 61,
     "metadata": {},
     "output_type": "execute_result"
    }
   ],
   "source": [
    "knn_cv = GridSearchCV(KNeighborsClassifier(),\n",
    "                        param_grid=params,\n",
    "                        cv=cv,\n",
    "                        scoring=weighted_f1_scorer).fit(train_data[['Scaled_'+f for f in features_corr_filt]], train_data['Churn'])\n",
    "\n",
    "knn_cv.best_params_"
   ]
  },
  {
   "cell_type": "markdown",
   "id": "254265b0",
   "metadata": {},
   "source": [
    "#### Decision Tree"
   ]
  },
  {
   "cell_type": "code",
   "execution_count": 62,
   "id": "0be7c548",
   "metadata": {},
   "outputs": [],
   "source": [
    "from sklearn.tree import DecisionTreeClassifier"
   ]
  },
  {
   "cell_type": "code",
   "execution_count": 63,
   "id": "e4c482e8",
   "metadata": {},
   "outputs": [],
   "source": [
    "params = {'criterion': ['gini', 'entropy'], 'max_depth': [2,3,4,5], 'min_samples_leaf': [int(train_data.shape[0]*0.05)]}"
   ]
  },
  {
   "cell_type": "code",
   "execution_count": 64,
   "id": "3672c0a0",
   "metadata": {},
   "outputs": [
    {
     "data": {
      "text/plain": [
       "{'criterion': 'gini', 'max_depth': 4, 'min_samples_leaf': 246}"
      ]
     },
     "execution_count": 64,
     "metadata": {},
     "output_type": "execute_result"
    }
   ],
   "source": [
    "dtree_cv = GridSearchCV(DecisionTreeClassifier(),\n",
    "                        param_grid=params,\n",
    "                        cv=cv,\n",
    "                        scoring=weighted_f1_scorer).fit(train_data[features_corr_filt], train_data['Churn'])\n",
    "\n",
    "dtree_cv.best_params_"
   ]
  },
  {
   "cell_type": "markdown",
   "id": "d29e50aa",
   "metadata": {},
   "source": [
    "#### Random Forest"
   ]
  },
  {
   "cell_type": "code",
   "execution_count": 65,
   "id": "280b47e3",
   "metadata": {},
   "outputs": [],
   "source": [
    "from sklearn.ensemble import RandomForestClassifier"
   ]
  },
  {
   "cell_type": "code",
   "execution_count": 66,
   "id": "8c337b79",
   "metadata": {},
   "outputs": [],
   "source": [
    "params = {'n_estimators': [40,50,60,70,80], 'criterion': ['gini','entropy'], 'max_depth': [2,3,4,5,6], 'min_samples_leaf': [int(train_data.shape[0]*0.05)]}"
   ]
  },
  {
   "cell_type": "code",
   "execution_count": 67,
   "id": "e9308c33",
   "metadata": {},
   "outputs": [
    {
     "data": {
      "text/plain": [
       "{'criterion': 'gini',\n",
       " 'max_depth': 5,\n",
       " 'min_samples_leaf': 246,\n",
       " 'n_estimators': 60}"
      ]
     },
     "execution_count": 67,
     "metadata": {},
     "output_type": "execute_result"
    }
   ],
   "source": [
    "rf_cv = GridSearchCV(RandomForestClassifier(),\n",
    "                        param_grid=params,\n",
    "                        cv=cv,\n",
    "                        scoring=weighted_f1_scorer).fit(train_data[features_corr_filt], train_data['Churn'])\n",
    "\n",
    "rf_cv.best_params_"
   ]
  },
  {
   "cell_type": "markdown",
   "id": "0dd5d69e",
   "metadata": {},
   "source": [
    "#### Gradient Boosting Tree"
   ]
  },
  {
   "cell_type": "code",
   "execution_count": 68,
   "id": "8edde5ef",
   "metadata": {},
   "outputs": [],
   "source": [
    "from sklearn.ensemble import GradientBoostingClassifier"
   ]
  },
  {
   "cell_type": "code",
   "execution_count": 69,
   "id": "d6e4d37c",
   "metadata": {},
   "outputs": [],
   "source": [
    "params = {'learning_rate': [0.1, 0.15, 0.20, 0.25], \n",
    "              'n_estimators': [40,50,60,70,80], 'max_depth': [2,3,4,5,6],\n",
    "              'min_samples_leaf': [int(train_data.shape[0]*0.05)]}"
   ]
  },
  {
   "cell_type": "code",
   "execution_count": 70,
   "id": "7dc0f254",
   "metadata": {},
   "outputs": [
    {
     "data": {
      "text/plain": [
       "{'learning_rate': 0.1,\n",
       " 'max_depth': 3,\n",
       " 'min_samples_leaf': 246,\n",
       " 'n_estimators': 60}"
      ]
     },
     "execution_count": 70,
     "metadata": {},
     "output_type": "execute_result"
    }
   ],
   "source": [
    "gbt_cv = GridSearchCV(GradientBoostingClassifier(),\n",
    "                        param_grid=params,\n",
    "                        cv=cv,\n",
    "                        scoring=weighted_f1_scorer).fit(train_data[features_corr_filt], train_data['Churn'])\n",
    "\n",
    "gbt_cv.best_params_"
   ]
  },
  {
   "cell_type": "markdown",
   "id": "c2192078",
   "metadata": {},
   "source": [
    "### Model performances"
   ]
  },
  {
   "cell_type": "markdown",
   "id": "aa2e4d99",
   "metadata": {},
   "source": [
    "Because of the inbalanced dataset weighted F1-score will be used for model evaluation\n",
    "\n",
    "Model with the highest weighted F1-score on the test sample will be selected"
   ]
  },
  {
   "cell_type": "code",
   "execution_count": 71,
   "id": "302e6960",
   "metadata": {},
   "outputs": [],
   "source": [
    "def weighted_f1_perf(model, train, test, features, target):\n",
    "    \n",
    "    scores = [f1_score(train[target], model.predict_proba(train[features])[:,1] >= t,\n",
    "                       average='weighted') for t in np.arange(0,1.05,0.05)]\n",
    "    \n",
    "    threshold = np.arange(0,1.05,0.05)[np.argmax(scores)]\n",
    "    \n",
    "    f_train = f1_score(train[target], np.where(model.predict_proba(train[features])[:,1] >= threshold, 1, 0), average='weighted')\n",
    "    f_test = f1_score(test[target], np.where(model.predict_proba(test[features])[:,1] >= threshold, 1, 0), average='weighted')\n",
    "\n",
    "    return round(threshold,2), f_train, f_test"
   ]
  },
  {
   "cell_type": "code",
   "execution_count": 72,
   "id": "4009dace",
   "metadata": {},
   "outputs": [],
   "source": [
    "performances = {}"
   ]
  },
  {
   "cell_type": "code",
   "execution_count": 73,
   "id": "a9e91ea2",
   "metadata": {},
   "outputs": [],
   "source": [
    "performances['LogisticRegression'] = weighted_f1_perf(logreg, train_data, test_data, features_stepwise_v1, 'Churn')\n",
    "performances['LogisticRegressionV2'] = weighted_f1_perf(logreg_v2, train_data, test_data, features_stepwise_v2, 'Churn')\n",
    "\n",
    "performances['NaiveBayes'] = weighted_f1_perf(naive, train_data, test_data, features_corr_filt, 'Churn')\n",
    "\n",
    "performances['SVC'] = weighted_f1_perf(svc, train_data, test_data, ['Scaled_'+f for f in features_corr_filt], 'Churn')\n",
    "performances['KNearestNeighbors'] = weighted_f1_perf(knn_cv, train_data, test_data, ['Scaled_'+f for f in features_corr_filt], 'Churn')\n",
    "\n",
    "performances['DecisionTree'] = weighted_f1_perf(dtree_cv, train_data, test_data, features_corr_filt, 'Churn')\n",
    "performances['RandomForest'] = weighted_f1_perf(rf_cv, train_data, test_data, features_corr_filt, 'Churn')\n",
    "performances['GradientBoostingTree'] = weighted_f1_perf(gbt_cv, train_data, test_data, features_corr_filt, 'Churn')"
   ]
  },
  {
   "cell_type": "code",
   "execution_count": 74,
   "id": "ab735d37",
   "metadata": {},
   "outputs": [
    {
     "data": {
      "image/png": "[encoded data removed]",
      "text/plain": [
       "<Figure size 720x432 with 1 Axes>"
      ]
     },
     "metadata": {
      "needs_background": "light"
     },
     "output_type": "display_data"
    }
   ],
   "source": [
    "import operator\n",
    "\n",
    "perf_on_test = {}\n",
    "\n",
    "for model in performances.keys():\n",
    "    \n",
    "    perf_on_test[model] = performances[model][2]\n",
    "    \n",
    "perf_on_test = dict(sorted(perf_on_test.items(), key=operator.itemgetter(1),reverse=True))\n",
    "\n",
    "fig, ax = plt.subplots(1, 1, figsize=(10,6))\n",
    "ax.plot(list(perf_on_test.keys()), perf_on_test.values(), color='green', marker='o', ls=None)\n",
    "labels = ax.get_xticklabels()\n",
    "plt.setp(labels,rotation=45, horizontalalignment='center',fontsize=9)\n",
    "plt.title('Model performances')\n",
    "plt.show()"
   ]
  }
 ],
 "metadata": {
  "kernelspec": {
   "display_name": "Python 3 (ipykernel)",
   "language": "python",
   "name": "python3"
  },
  "language_info": {
   "codemirror_mode": {
    "name": "ipython",
    "version": 3
   },
   "file_extension": ".py",
   "mimetype": "text/x-python",
   "name": "python",
   "nbconvert_exporter": "python",
   "pygments_lexer": "ipython3",
   "version": "3.9.12"
  }
 },
 "nbformat": 4,
 "nbformat_minor": 5
}
